{
 "cells": [
  {
   "cell_type": "code",
   "execution_count": 43,
   "id": "d1523a76-1df1-49c9-8634-ae53944887a8",
   "metadata": {},
   "outputs": [
    {
     "name": "stdin",
     "output_type": "stream",
     "text": [
      " bbb\n"
     ]
    },
    {
     "data": {
      "text/plain": [
       "'bbb'"
      ]
     },
     "execution_count": 43,
     "metadata": {},
     "output_type": "execute_result"
    }
   ],
   "source": [
    "#reverse a string.\n",
    "s=str(input()) #take input from user and convert input intto string\n",
    "s1=s[::-1] #reverse the string and save the result in s1\n",
    "s1 #print the reversed  string"
   ]
  },
  {
   "cell_type": "code",
   "execution_count": 14,
   "id": "89878a95-183a-4764-999f-7612dc7c5544",
   "metadata": {},
   "outputs": [
    {
     "name": "stdin",
     "output_type": "stream",
     "text": [
      "Enter a string:  abababa\n"
     ]
    },
    {
     "name": "stdout",
     "output_type": "stream",
     "text": [
      "The input string is a palindrome.\n"
     ]
    }
   ],
   "source": [
    "#Check if a string is a palindrome.\n",
    "def is_palindrome(s2):\n",
    "    s2 = s2.lower()  # Convert to lowercase for case-insensitivity\n",
    "    s3 = s2[::-1] #reverse the string and store that in s3\n",
    "    return s2 == s3 #the new reversed value is assigned to s3\n",
    "\n",
    "# Get input from the user\n",
    "s2 = input(\"Enter a string: \")\n",
    "\n",
    "# Check if the input string is a palindrome\n",
    "if is_palindrome(s2):\n",
    "    print(\"The input string is a palindrome.\")\n",
    "else:\n",
    "    print(\"The input string is not a palindrome.\")\n",
    "\n"
   ]
  },
  {
   "cell_type": "code",
   "execution_count": 29,
   "id": "b1d544fe-90b3-417c-9454-5fc9a6757697",
   "metadata": {},
   "outputs": [
    {
     "name": "stdin",
     "output_type": "stream",
     "text": [
      "Enter a string:  JVKSKJJKSjgfajrywtrakwh\n"
     ]
    },
    {
     "data": {
      "text/plain": [
       "'JVKSKJJKSJGFAJRYWTRAKWH'"
      ]
     },
     "execution_count": 29,
     "metadata": {},
     "output_type": "execute_result"
    }
   ],
   "source": [
    "#Convert a string to uppercase.\n",
    "string = input(\"Enter a string: \")\n",
    "upper = string.upper()\n",
    "upper"
   ]
  },
  {
   "cell_type": "code",
   "execution_count": 30,
   "id": "7584834f-cd51-492a-96de-2dff6d5c3682",
   "metadata": {},
   "outputs": [
    {
     "name": "stdin",
     "output_type": "stream",
     "text": [
      "Enter a string:  SDDD\n"
     ]
    },
    {
     "data": {
      "text/plain": [
       "'sddd'"
      ]
     },
     "execution_count": 30,
     "metadata": {},
     "output_type": "execute_result"
    }
   ],
   "source": [
    "#Convert a string to lowercase.\n",
    "string = input(\"Enter a string: \")\n",
    "lower=string.lower()\n",
    "lower"
   ]
  },
  {
   "cell_type": "code",
   "execution_count": 46,
   "id": "bc3e00c9-15a2-4eed-b8ce-47c08a2135fb",
   "metadata": {},
   "outputs": [
    {
     "name": "stdin",
     "output_type": "stream",
     "text": [
      "Enter a string:  aeiou\n"
     ]
    },
    {
     "name": "stdout",
     "output_type": "stream",
     "text": [
      "No of vowels in the given string : 5\n"
     ]
    }
   ],
   "source": [
    "#Count the number of vowels in a string.\n",
    "s4 = input(\"Enter a string: \")\n",
    "vowelcount=0\n",
    "vowels = [\"a\", \"e\", \"i\", \"o\", \"u\",\"A\",\"E\",\"I\",\"O\",\"U\"]\n",
    "for i in range(len(s4)): \n",
    "    if s4[i] in vowels:\n",
    "         vowelcount += 1 #whenever vowel occurs the count is increased by 1\n",
    "print(\"No of vowels in the given string :\", vowelcount)\n"
   ]
  },
  {
   "cell_type": "code",
   "execution_count": 1,
   "id": "d5578c9f-6e88-4687-8063-e168f48e868b",
   "metadata": {},
   "outputs": [
    {
     "name": "stdin",
     "output_type": "stream",
     "text": [
      "Enter a string:  dhhjgjhfffddr\n"
     ]
    },
    {
     "name": "stdout",
     "output_type": "stream",
     "text": [
      "No of consonants in the given string : 13\n"
     ]
    }
   ],
   "source": [
    "#Count the number of consonants in a string.\n",
    "s5 = input(\"Enter a string: \")\n",
    "count=0\n",
    "consonants = \"bcdfghjklmnpqrstvwxyzBCDFGHJKLMNPQRSTVWXYZ\"\n",
    "for i in range(len(s5)): \n",
    "    if s5[i] in consonants:\n",
    "         count += 1 #whenever consonant occurs the count is increased by 1\n",
    "print(\"No of consonants in the given string :\", count)"
   ]
  },
  {
   "cell_type": "code",
   "execution_count": 44,
   "id": "d1e89374-6741-49b2-bf18-caf058cca164",
   "metadata": {},
   "outputs": [
    {
     "name": "stdin",
     "output_type": "stream",
     "text": [
      "Enter a string:  hfhfhgf\n"
     ]
    },
    {
     "name": "stdout",
     "output_type": "stream",
     "text": [
      "Modified string without spaces: hfhfhgf\n"
     ]
    }
   ],
   "source": [
    "#Remove all whitespaces from a string.\n",
    "s6 = input(\"Enter a string: \")\n",
    "s7 = s6.replace(\" \", \"\") #removing the spaces\n",
    "print(\"Modified string without spaces:\", s7)"
   ]
  },
  {
   "cell_type": "code",
   "execution_count": 6,
   "id": "d94cd543-e134-45c2-9930-6b337bee1d40",
   "metadata": {},
   "outputs": [
    {
     "name": "stdin",
     "output_type": "stream",
     "text": [
      "enter the string: 111abc\n"
     ]
    },
    {
     "name": "stdout",
     "output_type": "stream",
     "text": [
      "6\n"
     ]
    }
   ],
   "source": [
    "#Find the length of a string without using the `len()` function.\n",
    "def calculate_length(input_string):\n",
    "    count = 0\n",
    "    for char in input_string:\n",
    "        count += 1\n",
    "    return count\n",
    "\n",
    "input_string = input(\"enter the string:\")\n",
    "length = calculate_length(input_string)\n",
    "print(length)\n"
   ]
  },
  {
   "cell_type": "code",
   "execution_count": 13,
   "id": "2c422358-bd4e-43ec-8e3c-f99b37723375",
   "metadata": {},
   "outputs": [
    {
     "name": "stdin",
     "output_type": "stream",
     "text": [
      "enter the string: kytyuuyuitituy\n",
      "enter the word: y\n"
     ]
    },
    {
     "name": "stdout",
     "output_type": "stream",
     "text": [
      "The string contains the specific word.\n"
     ]
    }
   ],
   "source": [
    "#Check if a string contains a specific word.\n",
    "input_string = input(\"enter the string:\") #taking string from user\n",
    "specific_word = input(\"enter the word:\") #taking word from user\n",
    "\n",
    "if specific_word in input_string:\n",
    "    print(\"The string contains the specific word.\")\n",
    "else:\n",
    "    print(\"The string does not contain the specific word.\")\n"
   ]
  },
  {
   "cell_type": "code",
   "execution_count": 2,
   "id": "2065117a-1807-4fed-b4de-9fa519e6eac7",
   "metadata": {},
   "outputs": [
    {
     "name": "stdout",
     "output_type": "stream",
     "text": [
      "Hello, world! This is a new sentence.\n"
     ]
    }
   ],
   "source": [
    "#Replace a word in a string with another word.\n",
    "input_string = \"Hello, world! This is a sample sentence.\"\n",
    "old_word = \"sample\"\n",
    "new_word = \"new\"\n",
    "\n",
    "updated_string = input_string.replace(old_word, new_word)\n",
    "print(updated_string)"
   ]
  },
  {
   "cell_type": "code",
   "execution_count": 7,
   "id": "61886620-f331-4490-9d89-98e0f74b2727",
   "metadata": {},
   "outputs": [
    {
     "data": {
      "text/plain": [
       "2"
      ]
     },
     "execution_count": 7,
     "metadata": {},
     "output_type": "execute_result"
    }
   ],
   "source": [
    "#Count the occurrences of a word in a string.\n",
    "string=\" this is best place to learn data science you need hardwork and dedication this is provided by pwskills\"\n",
    "wordcount=string.count('this')\n",
    "wordcount"
   ]
  },
  {
   "cell_type": "code",
   "execution_count": 10,
   "id": "7d884cfd-ffb2-4446-9213-5975afb00c02",
   "metadata": {},
   "outputs": [
    {
     "data": {
      "text/plain": [
       "8"
      ]
     },
     "execution_count": 10,
     "metadata": {},
     "output_type": "execute_result"
    }
   ],
   "source": [
    "#Find the first occurrence of a word in a string.\n",
    "string=\"this is best place to learn data science you need hardwork and dedication this is provided by pwskills\"\n",
    "firstoccurance=string.find('best')\n",
    "firstoccurance"
   ]
  },
  {
   "cell_type": "code",
   "execution_count": 17,
   "id": "b45ba69f-832e-4ebb-a591-b9360d5a1a53",
   "metadata": {},
   "outputs": [
    {
     "data": {
      "text/plain": [
       "79"
      ]
     },
     "execution_count": 17,
     "metadata": {},
     "output_type": "execute_result"
    }
   ],
   "source": [
    "#Find the last occurrence of a word in a string.\n",
    "lastoccurance=string.rfind('is')\n",
    "lastoccurance"
   ]
  },
  {
   "cell_type": "code",
   "execution_count": 18,
   "id": "dcee1194-ee07-4dd2-98d6-536be05c4c2c",
   "metadata": {},
   "outputs": [
    {
     "data": {
      "text/plain": [
       "['hi',\n",
       " 'how',\n",
       " 'r',\n",
       " 'u',\n",
       " 'what',\n",
       " 'are',\n",
       " 'u',\n",
       " 'doing',\n",
       " 'are',\n",
       " 'you',\n",
       " 'taking',\n",
       " 'the',\n",
       " 'classes',\n",
       " 'regurarly']"
      ]
     },
     "execution_count": 18,
     "metadata": {},
     "output_type": "execute_result"
    }
   ],
   "source": [
    "#Split a string into a list of words.\n",
    "ss=\"hi how r u what are u doing are you taking the classes regurarly\"\n",
    "split=ss.split()\n",
    "split"
   ]
  },
  {
   "cell_type": "code",
   "execution_count": 45,
   "id": "6b0be52a-1262-46f4-92e4-296bc526bb3e",
   "metadata": {},
   "outputs": [
    {
     "name": "stdout",
     "output_type": "stream",
     "text": [
      "This is a list of words understand\n"
     ]
    }
   ],
   "source": [
    "#Join a list of words into a string.\n",
    "words = [\"This\", \"is\", \"a\", \"list\", \"of\", \"words\",\"understand\"]\n",
    "separator = \" \" #separator is used to separate the words in new string\n",
    "\n",
    "joinedstring = separator.join(words) #join is used to join the words into a  string\n",
    "print(joinedstring)\n"
   ]
  },
  {
   "cell_type": "code",
   "execution_count": 2,
   "id": "94f8c213-82a8-4534-b00f-7b17d155191e",
   "metadata": {},
   "outputs": [
    {
     "data": {
      "text/plain": [
       "'This_is_a_list_of_words_understand'"
      ]
     },
     "execution_count": 2,
     "metadata": {},
     "output_type": "execute_result"
    }
   ],
   "source": [
    "#Convert a string where words are separated by spaces to one where words\n",
    "#are separated by underscores.\n",
    "sa=\"This is a list of words understand\"\n",
    "new=sa.replace(\" \",'_')\n",
    "new"
   ]
  },
  {
   "cell_type": "code",
   "execution_count": 39,
   "id": "c49aa5e8-6f13-406c-ab54-46dd41466cae",
   "metadata": {},
   "outputs": [
    {
     "name": "stdout",
     "output_type": "stream",
     "text": [
      "The string starts with the specific word.\n"
     ]
    }
   ],
   "source": [
    "#Check if a string starts with a specific word or phrase.\n",
    "specific_word = \"This\"\n",
    "if sa.startswith(specific_word):\n",
    "    print(\"The string starts with the specific word.\")\n",
    "else:\n",
    "    print(\"The string does not start with the specific word.\")"
   ]
  },
  {
   "cell_type": "code",
   "execution_count": 31,
   "id": "cd4ff06e-7ea2-4d8b-b934-516c8bd5f27c",
   "metadata": {},
   "outputs": [
    {
     "name": "stdout",
     "output_type": "stream",
     "text": [
      "The string end with the specific word.\n"
     ]
    }
   ],
   "source": [
    "specific_word = \"words\"\n",
    "if sa.endswith(specific_word):\n",
    "    print(\"The string end with the specific word.\")\n",
    "else:\n",
    "    print(\"The string does not end with the specific word.\")"
   ]
  },
  {
   "cell_type": "code",
   "execution_count": 40,
   "id": "d985d362-4958-4d3c-83fc-5926d1ae6616",
   "metadata": {},
   "outputs": [
    {
     "data": {
      "text/plain": [
       "'This Is A List Of Words Understand'"
      ]
     },
     "execution_count": 40,
     "metadata": {},
     "output_type": "execute_result"
    }
   ],
   "source": [
    "#Convert a string to title case (e.g., \"hello world\" to \"Hello World\").\n",
    "titlecase=sa.title()\n",
    "titlecase"
   ]
  },
  {
   "cell_type": "code",
   "execution_count": 42,
   "id": "963aa13e-ae99-4edf-8d1d-dc909bf0a452",
   "metadata": {},
   "outputs": [
    {
     "name": "stdout",
     "output_type": "stream",
     "text": [
      "The longest word in the string is: understand\n"
     ]
    }
   ],
   "source": [
    "#Find the longest word in a string.\n",
    "word = sa.split()\n",
    "\n",
    "longest_word = max(word, key=len) #The max() is applied to find the longest word in the list of words.\n",
    "#key=len  argument specifies that the length of each word should be used as the comparison key.\n",
    "print(\"The longest word in the string is:\", longest_word)"
   ]
  },
  {
   "cell_type": "code",
   "execution_count": 3,
   "id": "c166e55e-ec20-4bb5-afa2-8db343732f92",
   "metadata": {},
   "outputs": [
    {
     "name": "stdout",
     "output_type": "stream",
     "text": [
      "the shortest word in the string is: a\n"
     ]
    }
   ],
   "source": [
    "#Find the shortest word in a string\n",
    "ww=sa.split()\n",
    "shortest_word=min(ww,key=len)\n",
    "print(\"the shortest word in the string is:\",shortest_word)"
   ]
  },
  {
   "cell_type": "code",
   "execution_count": 5,
   "id": "1748a39e-40ea-4edf-b35c-b141d564927d",
   "metadata": {},
   "outputs": [
    {
     "data": {
      "text/plain": [
       "'dnatsrednu sdrow fo tsil a si sihT'"
      ]
     },
     "execution_count": 5,
     "metadata": {},
     "output_type": "execute_result"
    }
   ],
   "source": [
    "#Reverse the order of words in a string.\n",
    "rev=sa[::-1]\n",
    "rev"
   ]
  },
  {
   "cell_type": "code",
   "execution_count": 6,
   "id": "eadb204d-224a-4bfa-8aa2-56728cb54bec",
   "metadata": {},
   "outputs": [
    {
     "data": {
      "text/plain": [
       "False"
      ]
     },
     "execution_count": 6,
     "metadata": {},
     "output_type": "execute_result"
    }
   ],
   "source": [
    "#Check if a string is alphanumeric.\n",
    "sa.isalnum()"
   ]
  },
  {
   "cell_type": "code",
   "execution_count": 7,
   "id": "fb482f1b-a279-48ef-9fa9-7064742262aa",
   "metadata": {},
   "outputs": [
    {
     "name": "stdout",
     "output_type": "stream",
     "text": [
      "Extracted digits: 123\n"
     ]
    }
   ],
   "source": [
    "# Extract all digits from a string.\n",
    "input_string = \"There are 123 digits in this string.\"\n",
    "\n",
    "digits = [char for char in input_string if char.isdigit()] #all digitsare collected using isdigit() method\n",
    "extracted_digits = ''.join(digits) #join() method is used to convert the list of digits back into a string\n",
    "\n",
    "print(\"Extracted digits:\", extracted_digits)\n"
   ]
  },
  {
   "cell_type": "code",
   "execution_count": 8,
   "id": "ca5a4776-ff5c-4b50-a334-dd07988116af",
   "metadata": {},
   "outputs": [
    {
     "name": "stdout",
     "output_type": "stream",
     "text": [
      "Extracted alphabets: Therearedigitsinthisstring\n"
     ]
    }
   ],
   "source": [
    "#Extract all alphabets from a string.\n",
    "alphabets = [char for char in input_string if char.isalpha()]\n",
    "#collect all the alphabet characters using the isalpha() method\n",
    "extracted_alphabets = ''.join(alphabets)\n",
    "\n",
    "print(\"Extracted alphabets:\", extracted_alphabets)"
   ]
  },
  {
   "cell_type": "code",
   "execution_count": 12,
   "id": "8b2fd6d0-fbd6-4d00-a0ef-d2b6127fa0a6",
   "metadata": {},
   "outputs": [
    {
     "name": "stdout",
     "output_type": "stream",
     "text": [
      "Number of uppercase letters: 7\n"
     ]
    }
   ],
   "source": [
    "#input_string = \"There Are 5 Uppercase Letters In This String.\"\n",
    "input_string = \"There Are 5 Uppercase Letters In This String.\"\n",
    "uppercase_count = 0\n",
    "for char in input_string: #condition for counting uppercase letters\n",
    "    if char.isupper():\n",
    "        uppercase_count += 1\n",
    "\n",
    "print(\"Number of uppercase letters:\", uppercase_count)\n"
   ]
  },
  {
   "cell_type": "code",
   "execution_count": 13,
   "id": "f231799e-d0ef-4670-bbb4-db31d71b75b9",
   "metadata": {},
   "outputs": [
    {
     "name": "stdout",
     "output_type": "stream",
     "text": [
      "Number of lowercase letters: 29\n"
     ]
    }
   ],
   "source": [
    "#Count the number of lowercase letters in a string.\n",
    "lowercase_count = 0\n",
    "for char in input_string: #condition for counting uppercase letters\n",
    "    if char.islower():\n",
    "        lowercase_count += 1\n",
    "\n",
    "print(\"Number of lowercase letters:\", lowercase_count)"
   ]
  },
  {
   "cell_type": "code",
   "execution_count": 15,
   "id": "7aaa7a15-3a27-4654-af01-957025956895",
   "metadata": {},
   "outputs": [
    {
     "name": "stdout",
     "output_type": "stream",
     "text": [
      "Original string: Hello, World!\n",
      "Swapped string: hELLO, wORLD!\n"
     ]
    }
   ],
   "source": [
    "# Swap the case of each character in a string\n",
    "input_string = \"Hello, World!\"\n",
    "\n",
    "swapped_string = input_string.swapcase()\n",
    "\n",
    "print(\"Original string:\", input_string)\n",
    "print(\"Swapped string:\", swapped_string)"
   ]
  },
  {
   "cell_type": "code",
   "execution_count": 16,
   "id": "559d9be7-1938-4639-ae8b-69a4ac5c37c4",
   "metadata": {},
   "outputs": [
    {
     "name": "stdout",
     "output_type": "stream",
     "text": [
      "Original string: Hello, world! This is a sample sentence.\n",
      "String after removing the word: Hello, world! This is a  sentence.\n"
     ]
    }
   ],
   "source": [
    "#Remove a specific word from a string.\n",
    "input_string = \"Hello, world! This is a sample sentence.\"\n",
    "word_to_remove = \"sample\"\n",
    "new_string = input_string.replace(word_to_remove, \"\")\n",
    "\n",
    "print(\"Original string:\", input_string)\n",
    "print(\"String after removing the word:\", new_string)"
   ]
  },
  {
   "cell_type": "code",
   "execution_count": 4,
   "id": "b5970372-c2ce-448b-a03a-fb16c5f135b1",
   "metadata": {},
   "outputs": [
    {
     "name": "stdout",
     "output_type": "stream",
     "text": [
      "Requirement already satisfied: email-validator in /opt/conda/lib/python3.10/site-packages (2.0.0.post2)\n",
      "Requirement already satisfied: idna>=2.0.0 in /opt/conda/lib/python3.10/site-packages (from email-validator) (3.4)\n",
      "Requirement already satisfied: dnspython>=2.0.0 in /opt/conda/lib/python3.10/site-packages (from email-validator) (2.4.2)\n",
      "Note: you may need to restart the kernel to use updated packages.\n"
     ]
    }
   ],
   "source": [
    "#Check if a string is a valid email address\n",
    "pip install email-validator \n",
    "#email_validator library is ued to check if a string is a valid email address in python\n"
   ]
  },
  {
   "cell_type": "code",
   "execution_count": 5,
   "id": "f3e15a9a-949b-4d57-8ce4-5e854699d9d3",
   "metadata": {},
   "outputs": [
    {
     "name": "stdout",
     "output_type": "stream",
     "text": [
      "Valid email address\n"
     ]
    }
   ],
   "source": [
    "from email_validator import validate_email, EmailNotValidError\n",
    "\n",
    "def is_valid_email(email):\n",
    "    try:\n",
    "        valid = validate_email(email)\n",
    "        return True\n",
    "    except EmailNotValidError:\n",
    "        return False\n",
    "\n",
    "email_address = \"example@email.com\"\n",
    "\n",
    "if is_valid_email(email_address):\n",
    "    print(\"Valid email address\")\n",
    "else:\n",
    "    print(\"Invalid email address\")\n"
   ]
  },
  {
   "cell_type": "code",
   "execution_count": 6,
   "id": "418d9358-0450-4eeb-8fbf-6f57483e3e37",
   "metadata": {},
   "outputs": [
    {
     "name": "stdout",
     "output_type": "stream",
     "text": [
      "Username: example\n"
     ]
    }
   ],
   "source": [
    "# Extract the username from an email address string\n",
    "email_address = \"example@email.com\"\n",
    "username = email_address.split(\"@\")[0]\n",
    "\n",
    "print(\"Username:\", username)\n"
   ]
  },
  {
   "cell_type": "code",
   "execution_count": 7,
   "id": "5887fcb5-1ca9-466f-b683-2c7357f5cd33",
   "metadata": {},
   "outputs": [
    {
     "name": "stdout",
     "output_type": "stream",
     "text": [
      "Domain: email.com\n"
     ]
    }
   ],
   "source": [
    "#Extract the domain name from an email address string.\n",
    "email_address = \"example@email.com\"\n",
    "domain = email_address.split(\"@\")[1]\n",
    "\n",
    "print(\"Domain:\", domain)\n"
   ]
  },
  {
   "cell_type": "code",
   "execution_count": 8,
   "id": "556c5cf1-551b-4633-aaac-1acae9b61a3d",
   "metadata": {},
   "outputs": [
    {
     "name": "stdout",
     "output_type": "stream",
     "text": [
      "Original string: This    is   a   string     with   multiple      spaces.\n",
      "Processed string: This is a string with multiple spaces.\n"
     ]
    }
   ],
   "source": [
    "# Replace multiple spaces in a string with a single space\n",
    "input_string = \"This    is   a   string     with   multiple      spaces.\"\n",
    "processed_string = ' '.join(input_string.split())\n",
    "\n",
    "print(\"Original string:\", input_string)\n",
    "print(\"Processed string:\", processed_string)\n"
   ]
  },
  {
   "cell_type": "code",
   "execution_count": 2,
   "id": "b1caec1d-1eb0-41fc-9d7b-7440b36b021a",
   "metadata": {},
   "outputs": [
    {
     "name": "stdout",
     "output_type": "stream",
     "text": [
      "Requirement already satisfied: validators in /opt/conda/lib/python3.10/site-packages (0.21.2)\n",
      "Note: you may need to restart the kernel to use updated packages.\n"
     ]
    }
   ],
   "source": [
    "# Check if a string is a valid URL.\n",
    "pip install validators #validators library is used to check if a string is a valid URL:\n"
   ]
  },
  {
   "cell_type": "code",
   "execution_count": 5,
   "id": "4c12d7d9-3aaf-40f1-8a52-dd217e9307a8",
   "metadata": {},
   "outputs": [
    {
     "name": "stdout",
     "output_type": "stream",
     "text": [
      "Valid URL\n"
     ]
    }
   ],
   "source": [
    "import validators\n",
    "\n",
    "url = \"https://www.example.com\"\n",
    "\n",
    "if validators.url(url):\n",
    "    print(\"Valid URL\")\n",
    "else:\n",
    "    print(\"Invalid URL\")\n"
   ]
  },
  {
   "cell_type": "code",
   "execution_count": 1,
   "id": "d44fd6a2-95fa-4a01-b7da-9be2ba982e70",
   "metadata": {},
   "outputs": [
    {
     "name": "stdout",
     "output_type": "stream",
     "text": [
      "Protocol 1: https\n",
      "Protocol 2: http\n",
      "Protocol 3: ftp\n"
     ]
    }
   ],
   "source": [
    "#Extract the protocol (http or https) from a URL string.\n",
    "def extract_protocol(url):\n",
    "    # Find the index of the first occurrence of \"://\"\n",
    "    protocol_end = url.find(\"://\")\n",
    "\n",
    "    if protocol_end != -1:\n",
    "        # Extract the protocol from the URL\n",
    "        protocol = url[:protocol_end]\n",
    "        return protocol\n",
    "    else:\n",
    "        return None\n",
    "\n",
    "# Example URL strings\n",
    "url1 = \"https://www.example.com\"\n",
    "url2 = \"http://google.com\"\n",
    "url3 = \"ftp://ftp.example.com\"\n",
    "\n",
    "# Extract protocols\n",
    "protocol1 = extract_protocol(url1)\n",
    "protocol2 = extract_protocol(url2)\n",
    "protocol3 = extract_protocol(url3)\n",
    "\n",
    "# Print extracted protocols\n",
    "print(\"Protocol 1:\", protocol1)\n",
    "print(\"Protocol 2:\", protocol2)\n",
    "print(\"Protocol 3:\", protocol3)"
   ]
  },
  {
   "cell_type": "code",
   "execution_count": 2,
   "id": "7dfe962b-880b-43dc-b918-5a473f06db2f",
   "metadata": {},
   "outputs": [
    {
     "name": "stdin",
     "output_type": "stream",
     "text": [
      "enter the string: drrtfygukhiityuyfvjhjjkkj\n"
     ]
    },
    {
     "name": "stdout",
     "output_type": "stream",
     "text": [
      "{'d': 1, 'r': 2, 't': 2, 'f': 2, 'y': 3, 'g': 1, 'u': 2, 'k': 3, 'h': 2, 'i': 2, 'v': 1, 'j': 4}\n"
     ]
    }
   ],
   "source": [
    "# Find the frequency of each character in a string.\n",
    "input_string = input(\"enter the string:\")\n",
    "frequency = {}\n",
    "\n",
    "for char in input_string:\n",
    "    if char in frequency:\n",
    "        frequency[char] += 1\n",
    "    else:\n",
    "        frequency[char] = 1\n",
    "\n",
    "print(frequency)"
   ]
  },
  {
   "cell_type": "code",
   "execution_count": 3,
   "id": "567a30e0-2439-45c7-89d4-099b064001bb",
   "metadata": {},
   "outputs": [
    {
     "name": "stdout",
     "output_type": "stream",
     "text": [
      "Hello World Hows it going\n"
     ]
    }
   ],
   "source": [
    "#Remove all punctuation from a string\n",
    "input_string = \"Hello, World! How's it going?\"\n",
    "cleaned_string = ''\n",
    "\n",
    "for char in input_string:\n",
    "    if char.isalnum() or char.isspace():\n",
    "        cleaned_string += char\n",
    "\n",
    "print(cleaned_string)\n"
   ]
  },
  {
   "cell_type": "code",
   "execution_count": 4,
   "id": "e02df778-2d84-4573-95c1-c038fd9d574c",
   "metadata": {},
   "outputs": [
    {
     "name": "stdout",
     "output_type": "stream",
     "text": [
      "The string contains only digits.\n"
     ]
    }
   ],
   "source": [
    "#Check if a string contains only digits\n",
    "input_string = \"12345\"\n",
    "\n",
    "if input_string.isdigit():\n",
    "    print(\"The string contains only digits.\")\n",
    "else:\n",
    "    print(\"The string contains non-digit characters.\")\n"
   ]
  },
  {
   "cell_type": "code",
   "execution_count": 7,
   "id": "9dd8a792-9427-4e6c-b77f-58f4225703ea",
   "metadata": {},
   "outputs": [
    {
     "name": "stdin",
     "output_type": "stream",
     "text": [
      "enter your string: sfgfbjghjkdh\n"
     ]
    },
    {
     "name": "stdout",
     "output_type": "stream",
     "text": [
      "The string contains only alphabetic characters.\n"
     ]
    }
   ],
   "source": [
    "#Check if a string contains only alphabets\n",
    "input_string = input(\"enter your string:\")\n",
    "\n",
    "if input_string.isalpha():\n",
    "    print(\"The string contains only alphabetic characters.\")\n",
    "else:\n",
    "    print(\"The string contains non-alphabetic characters.\")\n"
   ]
  },
  {
   "cell_type": "code",
   "execution_count": 11,
   "id": "eaf3a0c4-81c9-4891-962a-b34227bdebd4",
   "metadata": {},
   "outputs": [
    {
     "name": "stdin",
     "output_type": "stream",
     "text": [
      "enter your string: abcgddjodjdf\n"
     ]
    },
    {
     "name": "stdout",
     "output_type": "stream",
     "text": [
      "['a', 'b', 'c', 'g', 'd', 'd', 'j', 'o', 'd', 'j', 'd', 'f']\n"
     ]
    }
   ],
   "source": [
    "#Convert a string to a list of characters\n",
    "input_string = input(\"enter your string:\")\n",
    "char_list = list(input_string)\n",
    "\n",
    "print(char_list)\n"
   ]
  },
  {
   "cell_type": "code",
   "execution_count": 14,
   "id": "a9e4b4f5-d7d5-496a-b10a-b3b8fdc57aae",
   "metadata": {},
   "outputs": [
    {
     "name": "stdout",
     "output_type": "stream",
     "text": [
      "The strings are anagrams.\n"
     ]
    }
   ],
   "source": [
    "#Check if two strings are anagrams\n",
    "def are_anagrams(str1, str2):\n",
    "    return set(str1) == set(str2)#returns the result of comparing whether the sets of characters in str1 and str2 are equal\n",
    "\n",
    "# Example usage\n",
    "string1 = \"listen\"\n",
    "string2 = \"silent\"\n",
    "\n",
    "if are_anagrams(string1, string2):\n",
    "    print(\"The strings are anagrams.\")\n",
    "else:\n",
    "    print(\"The strings are not anagrams.\")\n"
   ]
  },
  {
   "cell_type": "code",
   "execution_count": 2,
   "id": "8a466573-372c-448c-929d-b514cdef9e27",
   "metadata": {},
   "outputs": [
    {
     "name": "stdout",
     "output_type": "stream",
     "text": [
      "Encoded text: ehoor, zruog!\n"
     ]
    }
   ],
   "source": [
    " #Encode a string using a Caesar cipher.\n",
    "def caesar_cipher(text, shift):\n",
    "  \"\"\"\n",
    "  Encodes a string using a Caesar cipher.\n",
    "\n",
    "  Args:\n",
    "    text: The string to encode.\n",
    "    shift: The number of positions to shift each letter.\n",
    "\n",
    "  Returns:\n",
    "    The encoded string.\n",
    "  \"\"\"\n",
    "\n",
    "  # Initialize an empty string to store the encoded text.\n",
    "  encoded_text = \"\"\n",
    "\n",
    "  # Iterate through each character in the input text.\n",
    "  for char in text:\n",
    "    # Check if the character is alphabetic.\n",
    "    if char.isalpha():\n",
    "      # Calculate the encoded character's Unicode code point value by shifting it by the specified amount.\n",
    "      # Ensure the value wraps around within the lowercase alphabet range (a-z).\n",
    "      encoded_char = chr((ord(char) + shift - ord('a')) % 26 + ord('a'))\n",
    "    else:\n",
    "      # Keep non-alphabetic characters unchanged.\n",
    "      encoded_char = char\n",
    "\n",
    "    # Add the encoded character to the encoded text.\n",
    "    encoded_text += encoded_char\n",
    "\n",
    "  # Return the resulting encoded text.\n",
    "  return encoded_text\n",
    "\n",
    "# Define the input text and the shift value for encoding.\n",
    "text = \"Hello, world!\"\n",
    "shift = 3\n",
    "\n",
    "# Call the caesar_cipher function to encode the text using the specified shift.\n",
    "encoded_text = caesar_cipher(text, shift)\n",
    "\n",
    "# Print the encoded text.\n",
    "print(\"Encoded text:\", encoded_text)\n",
    "    "
   ]
  },
  {
   "cell_type": "code",
   "execution_count": 3,
   "id": "996f7dec-8282-4877-9725-30e1527c25ec",
   "metadata": {},
   "outputs": [
    {
     "name": "stdout",
     "output_type": "stream",
     "text": [
      "Decoded text: ilmm, world!\n"
     ]
    }
   ],
   "source": [
    "#Decode a Caesar cipher encoded string\n",
    "def caesar_cipher_decoder(text, shift):\n",
    "    \"\"\"\n",
    "    Decodes a string using a Caesar cipher.\n",
    "\n",
    "    Args:\n",
    "        text: The string to decode.\n",
    "        shift: The number of positions to shift each letter.\n",
    "\n",
    "    Returns:\n",
    "        The decoded string.\n",
    "    \"\"\"\n",
    "\n",
    "    # Initialize an empty string to store the decoded text\n",
    "    decoded_text = \"\"\n",
    "\n",
    "    # Loop through each character in the input text\n",
    "    for char in text:\n",
    "        # Check if the character is an alphabetic character\n",
    "        if char.isalpha():\n",
    "            # Calculate the decoded character using the shift value\n",
    "            decoded_char = chr((ord(char) - shift - ord('a')) % 26 + ord('a'))\n",
    "        else:\n",
    "            # If the character is not alphabetic, keep it unchanged\n",
    "            decoded_char = char\n",
    "\n",
    "        # Add the decoded character to the decoded text\n",
    "        decoded_text += decoded_char\n",
    "\n",
    "    # Return the fully decoded text\n",
    "    return decoded_text\n",
    "\n",
    "# Example input\n",
    "text = \"lopp, zruog!\"\n",
    "shift = 3\n",
    "\n",
    "# Call the caesar_cipher_decoder function to decode the input text\n",
    "decoded_text = caesar_cipher_decoder(text, shift)\n",
    "\n",
    "# Print the decoded text\n",
    "print(\"Decoded text:\", decoded_text)"
   ]
  },
  {
   "cell_type": "code",
   "execution_count": 2,
   "id": "3c73fd3c-43df-46ed-b6a7-c48fb8fb73dc",
   "metadata": {},
   "outputs": [
    {
     "name": "stdin",
     "output_type": "stream",
     "text": [
      "enter the string: tis is one of the ine one one twoo onw\n"
     ]
    },
    {
     "name": "stdout",
     "output_type": "stream",
     "text": [
      "The most frequent word is 'one'.\n"
     ]
    }
   ],
   "source": [
    "#. Find the most frequent word in a string.\n",
    "from collections import Counter #imports the Counter class from the collections module, which is used to count occurrences of elements\n",
    "\n",
    "def most_frequent_word(input_string): #defines a function\n",
    "    words = input_string.split() # splits the input string into a list of words.\n",
    "    word_counts = Counter(words) #creates a counter object to count the occurrences of each word.\n",
    "    most_common_word = max(word_counts, key=word_counts.get) #finds the most common word by using the max function with the key argument set to word_counts.get, which gets the count of each word.\n",
    "    return most_common_word\n",
    "input_string = input(\"enter the string:\")\n",
    "most_common_word = most_frequent_word(input_string)\n",
    "print(f\"The most frequent word is '{most_common_word}'.\")\n"
   ]
  },
  {
   "cell_type": "code",
   "execution_count": 6,
   "id": "fe158e01-9154-443e-9082-3796ad0bde63",
   "metadata": {},
   "outputs": [
    {
     "name": "stdin",
     "output_type": "stream",
     "text": [
      "enter your string: how r u what are u doing\n"
     ]
    },
    {
     "name": "stdout",
     "output_type": "stream",
     "text": [
      "Unique words: {'how', 'doing', 'r', 'are', 'u', 'what'}\n"
     ]
    }
   ],
   "source": [
    "#Find all unique words in a string\n",
    "def unique_words(input_string): # defines a function named unique_words that takes an input_string as its parameter\n",
    "    return set(input_string.split()) #uses a set comprehension to split the input_string into words using the default whitespace separator. It then converts the list of words into a set,\n",
    "#which automatically removes duplicate words. The resulting set of unique words is returned\n",
    "input_string = input(\"enter your string:\")\n",
    "unique_word_set = unique_words(input_string)\n",
    "print(\"Unique words:\", unique_word_set)"
   ]
  },
  {
   "cell_type": "code",
   "execution_count": 4,
   "id": "5dadf759-4693-4d92-9e20-bf1260af1dbe",
   "metadata": {},
   "outputs": [
    {
     "name": "stdout",
     "output_type": "stream",
     "text": [
      "'hello' has 2 syllables.\n",
      "'banana' has 3 syllables.\n",
      "'syllable' has 3 syllables.\n"
     ]
    }
   ],
   "source": [
    "#Count the number of syllables in a string\n",
    "import re\n",
    "\n",
    "def count_syllables(word):\n",
    "    # Count vowel groups using regular expression\n",
    "    vowel_groups = re.findall(r'[aeiouy]+', word, re.IGNORECASE)\n",
    "\n",
    "    return len(vowel_groups)\n",
    "\n",
    "# Example words\n",
    "word1 = \"hello\"\n",
    "word2 = \"banana\"\n",
    "word3 = \"syllable\"\n",
    "\n",
    "# Count syllables\n",
    "syllables1 = count_syllables(word1)\n",
    "syllables2 = count_syllables(word2)\n",
    "syllables3 = count_syllables(word3)\n",
    "\n",
    "# Print the results\n",
    "print(f\"'{word1}' has {syllables1} syllables.\")\n",
    "print(f\"'{word2}' has {syllables2} syllables.\")\n",
    "print(f\"'{word3}' has {syllables3} syllables.\")\n",
    "\n"
   ]
  },
  {
   "cell_type": "code",
   "execution_count": 10,
   "id": "104c3454-0324-4c19-9839-2373ef8ea764",
   "metadata": {},
   "outputs": [
    {
     "name": "stdout",
     "output_type": "stream",
     "text": [
      "The string contains special characters.\n"
     ]
    }
   ],
   "source": [
    "# Check if a string contains any special characters\n",
    "def contains_special_characters(input_string):\n",
    "    for char in input_string:\n",
    "        if not char.isalnum():\n",
    "            return True\n",
    "    return False\n",
    "input_string = \"Hell0!\"\n",
    "if contains_special_characters(input_string):\n",
    "    print(\"The string contains special characters.\")\n",
    "else:\n",
    "    print(\"The string does not contain special characters.\")\n"
   ]
  },
  {
   "cell_type": "code",
   "execution_count": 5,
   "id": "51a60ef8-4b13-4ee6-b54c-460ee3313132",
   "metadata": {},
   "outputs": [
    {
     "name": "stdout",
     "output_type": "stream",
     "text": [
      "Original string: This is an example sentence to test the function.\n",
      "Modified string: This is an sentence to test the function.\n",
      "Removed word: example\n"
     ]
    }
   ],
   "source": [
    "# Remove the nth word from a string.\n",
    "def remove_nth_word(input_string, n):\n",
    "    # Split the input string into words\n",
    "    words = input_string.split()\n",
    "\n",
    "    # Check if n is within a valid range\n",
    "    if n >= 1 and n <= len(words):\n",
    "        # Remove the nth word by excluding it from the words list\n",
    "        removed_word = words.pop(n - 1)\n",
    "\n",
    "        # Join the remaining words to form the modified string\n",
    "        modified_string = ' '.join(words)\n",
    "\n",
    "        return modified_string, removed_word\n",
    "    else:\n",
    "        return None, None\n",
    "\n",
    "# Example string and n value\n",
    "input_str = \"This is an example sentence to test the function.\"\n",
    "n_value = 4\n",
    "\n",
    "# Remove the nth word\n",
    "modified_str, removed_word = remove_nth_word(input_str, n_value)\n",
    "\n",
    "# Print the results\n",
    "print(\"Original string:\", input_str)\n",
    "if modified_str is not None:\n",
    "    print(\"Modified string:\", modified_str)\n",
    "    print(\"Removed word:\", removed_word)\n",
    "else:\n",
    "    print(\"Invalid n value.\")\n"
   ]
  },
  {
   "cell_type": "code",
   "execution_count": 26,
   "id": "ab7e9968-de9b-4ab1-aed2-256c68c097de",
   "metadata": {},
   "outputs": [
    {
     "name": "stdout",
     "output_type": "stream",
     "text": [
      "Modified string: This is hello a test sentence.\n"
     ]
    }
   ],
   "source": [
    "# Insert a word at the nth position in a string.\n",
    "def insert_word_at_nth_position(input_string, word_to_insert, n):\n",
    "    words = input_string.split()\n",
    "    words.insert(n - 1, word_to_insert)\n",
    "    return ' '.join(words)\n",
    "\n",
    "# Example usage\n",
    "input_string = \"This is a test sentence.\"\n",
    "word_to_insert = \"hello\"\n",
    "n = 3\n",
    "new_string = insert_word_at_nth_position(input_string, word_to_insert, n)\n",
    "print(\"Modified string:\", new_string)\n",
    "\n"
   ]
  },
  {
   "cell_type": "code",
   "execution_count": 29,
   "id": "208a99f2-801c-41de-8281-4ec57ea651ca",
   "metadata": {},
   "outputs": [
    {
     "name": "stdout",
     "output_type": "stream",
     "text": [
      "['John', 'Doe', '25']\n",
      "['Jane', 'Smith', '30']\n",
      "['Alice', 'Johnson', '28']\n"
     ]
    }
   ],
   "source": [
    "#Convert a CSV string to a list of lists.\n",
    "def csv_string_to_list(csv_string):\n",
    "    lines = csv_string.strip().split('\\n')  # Split the CSV into lines\n",
    "    csv_list = [line.split(',') for line in lines]  # Split each line into a list\n",
    "    return csv_list\n",
    "csv_string = \"John,Doe,25\\nJane,Smith,30\\nAlice,Johnson,28\"\n",
    "csv_list = csv_string_to_list(csv_string)\n",
    "for row in csv_list:\n",
    "    print(row)\n"
   ]
  },
  {
   "cell_type": "code",
   "execution_count": null,
   "id": "f5be1c57-f839-4e56-bef0-9ce395379018",
   "metadata": {},
   "outputs": [],
   "source": []
  },
  {
   "cell_type": "code",
   "execution_count": 1,
   "id": "8341d902-9af3-48e7-a417-45689f954805",
   "metadata": {},
   "outputs": [
    {
     "data": {
      "text/plain": [
       "[1, 2, 3, 4, 5, 6, 7, 8, 9, 10]"
      ]
     },
     "execution_count": 1,
     "metadata": {},
     "output_type": "execute_result"
    }
   ],
   "source": [
    "#Create a list with integers from 1 to 10.\n",
    "l=[1,2,3,4,5,6,7,8,9,10]\n",
    "l"
   ]
  },
  {
   "cell_type": "code",
   "execution_count": 2,
   "id": "d1d8abca-47b2-42fe-b0c7-25a20bab96f5",
   "metadata": {},
   "outputs": [
    {
     "name": "stdout",
     "output_type": "stream",
     "text": [
      "Length: 5\n"
     ]
    }
   ],
   "source": [
    "#Find the length of a list without using the `len()` function.\n",
    "def length(l): # keeps track of the length\n",
    "    count = 0 #represents the length of the list\n",
    "    while l:\n",
    "        l = lst[1:]\n",
    "        count += 1\n",
    "    return count\n",
    "\n",
    "# Example usage\n",
    "l = [1, 2, 3, 4, 5]\n",
    "length = len(l)\n",
    "print(\"Length:\", length)\n"
   ]
  },
  {
   "cell_type": "code",
   "execution_count": 3,
   "id": "40cd2d8c-060d-4f66-b775-e9577a038bc3",
   "metadata": {},
   "outputs": [
    {
     "data": {
      "text/plain": [
       "[1, 2, 3, 4, 5, 6]"
      ]
     },
     "execution_count": 3,
     "metadata": {},
     "output_type": "execute_result"
    }
   ],
   "source": [
    "#Append an element to the end of a list.\n",
    "l.append(6)\n",
    "l"
   ]
  },
  {
   "cell_type": "code",
   "execution_count": 4,
   "id": "5ae18c13-4f60-458d-9862-87c4d44aecbb",
   "metadata": {},
   "outputs": [
    {
     "data": {
      "text/plain": [
       "[1, 2, 3, 4, 5, 6, 7]"
      ]
     },
     "execution_count": 4,
     "metadata": {},
     "output_type": "execute_result"
    }
   ],
   "source": [
    "#Insert an element at a specific index in a list\n",
    "l.insert(6,7)\n",
    "l"
   ]
  },
  {
   "cell_type": "code",
   "execution_count": 5,
   "id": "1dfe2c80-e814-4e8d-8f91-06a737bbcf1c",
   "metadata": {},
   "outputs": [
    {
     "data": {
      "text/plain": [
       "[1, 2, 3, 4, 5, 6]"
      ]
     },
     "execution_count": 5,
     "metadata": {},
     "output_type": "execute_result"
    }
   ],
   "source": [
    "#Remove an element from a list by its value\n",
    "l.remove(7)\n",
    "l"
   ]
  },
  {
   "cell_type": "code",
   "execution_count": 6,
   "id": "e912acdb-506a-4d10-9b37-1f9c226b9f2d",
   "metadata": {},
   "outputs": [
    {
     "data": {
      "text/plain": [
       "[1, 2, 3, 4, 5]"
      ]
     },
     "execution_count": 6,
     "metadata": {},
     "output_type": "execute_result"
    }
   ],
   "source": [
    "#. Remove an element from a list by its index.\n",
    "l.pop(5)\n",
    "l"
   ]
  },
  {
   "cell_type": "code",
   "execution_count": 7,
   "id": "f72b57a0-e4b1-4c0b-8b1c-8400ed9490f5",
   "metadata": {},
   "outputs": [
    {
     "name": "stdout",
     "output_type": "stream",
     "text": [
      "3 exists in the list.\n"
     ]
    }
   ],
   "source": [
    "# Check if an element exists in a list\n",
    "element = 3\n",
    "\n",
    "if element in l:\n",
    "    print(f\"{element} exists in the list.\")\n",
    "else:\n",
    "    print(f\"{element} does not exist in the list.\")"
   ]
  },
  {
   "cell_type": "code",
   "execution_count": 8,
   "id": "1a7da4bb-f75b-4ca9-ba36-1b094f9982ff",
   "metadata": {},
   "outputs": [
    {
     "data": {
      "text/plain": [
       "2"
      ]
     },
     "execution_count": 8,
     "metadata": {},
     "output_type": "execute_result"
    }
   ],
   "source": [
    "#Find the index of the first occurrence of an element in a list\n",
    "l.index(3)"
   ]
  },
  {
   "cell_type": "code",
   "execution_count": 9,
   "id": "061d9e1a-8c9d-4e72-85b0-c963d36815ca",
   "metadata": {},
   "outputs": [
    {
     "name": "stdout",
     "output_type": "stream",
     "text": [
      "2 occurs 1 times in the list.\n"
     ]
    }
   ],
   "source": [
    "#Count the occurrences of an element in a list\n",
    "element = 2\n",
    "occurrences = l.count(element)\n",
    "print(f\"{element} occurs {occurrences} times in the list.\")"
   ]
  },
  {
   "cell_type": "code",
   "execution_count": 10,
   "id": "f8774bce-a042-4674-8012-0c1cf172e364",
   "metadata": {},
   "outputs": [
    {
     "data": {
      "text/plain": [
       "[5, 4, 3, 2, 1]"
      ]
     },
     "execution_count": 10,
     "metadata": {},
     "output_type": "execute_result"
    }
   ],
   "source": [
    "# Reverse the order of elements in a list\n",
    "l1=l[::-1]\n",
    "l1"
   ]
  },
  {
   "cell_type": "code",
   "execution_count": 11,
   "id": "9ac07bc1-3d74-4cb5-bf55-9fe7cab03c05",
   "metadata": {},
   "outputs": [
    {
     "data": {
      "text/plain": [
       "[1, 2, 3, 4, 5]"
      ]
     },
     "execution_count": 11,
     "metadata": {},
     "output_type": "execute_result"
    }
   ],
   "source": [
    "# Sort a list in ascending order.\n",
    "l1.sort()\n",
    "l1"
   ]
  },
  {
   "cell_type": "code",
   "execution_count": 12,
   "id": "2ed3ec02-aa21-4ac5-a517-1d9f80810677",
   "metadata": {},
   "outputs": [
    {
     "data": {
      "text/plain": [
       "[5, 4, 3, 2, 1]"
      ]
     },
     "execution_count": 12,
     "metadata": {},
     "output_type": "execute_result"
    }
   ],
   "source": [
    "# Sort a list in descending order.\n",
    "l1.sort(reverse=True)\n",
    "l1"
   ]
  },
  {
   "cell_type": "code",
   "execution_count": 13,
   "id": "7ebb32a3-3326-4bb2-ab36-277f76451194",
   "metadata": {},
   "outputs": [
    {
     "name": "stdout",
     "output_type": "stream",
     "text": [
      "[2, 4, 6, 8, 10, 12, 14, 16, 18, 20]\n"
     ]
    }
   ],
   "source": [
    "# Create a list of even numbers from 1 to 20\n",
    "even_numbers = list(range(2, 21, 2))\n",
    "\n",
    "print(even_numbers)\n"
   ]
  },
  {
   "cell_type": "code",
   "execution_count": 14,
   "id": "893e48cd-d3b4-4df0-926c-66004ea98a2e",
   "metadata": {},
   "outputs": [
    {
     "name": "stdout",
     "output_type": "stream",
     "text": [
      "[1, 3, 5, 7, 9, 11, 13, 15, 17, 19]\n"
     ]
    }
   ],
   "source": [
    "# Create a list of odd numbers from 1 to 20\n",
    "odd_numbers = list(range(1, 20, 2))\n",
    "\n",
    "print(odd_numbers)\n"
   ]
  },
  {
   "cell_type": "code",
   "execution_count": 15,
   "id": "bcdd1bda-c15d-4826-b169-05265bdb1e9d",
   "metadata": {},
   "outputs": [
    {
     "data": {
      "text/plain": [
       "15"
      ]
     },
     "execution_count": 15,
     "metadata": {},
     "output_type": "execute_result"
    }
   ],
   "source": [
    "# Find the sum of all elements in a list\n",
    "sum(l1)"
   ]
  },
  {
   "cell_type": "code",
   "execution_count": 16,
   "id": "86e96b66-0a9e-4f3b-b349-f9708d0ba75b",
   "metadata": {},
   "outputs": [
    {
     "data": {
      "text/plain": [
       "5"
      ]
     },
     "execution_count": 16,
     "metadata": {},
     "output_type": "execute_result"
    }
   ],
   "source": [
    "# Find the maximum value in a list\n",
    "max(l1)"
   ]
  },
  {
   "cell_type": "code",
   "execution_count": 17,
   "id": "4be78e3d-c18b-44eb-a8a7-5b94eb1916fd",
   "metadata": {},
   "outputs": [
    {
     "data": {
      "text/plain": [
       "1"
      ]
     },
     "execution_count": 17,
     "metadata": {},
     "output_type": "execute_result"
    }
   ],
   "source": [
    "#Find the minimum value in a list.\n",
    "min(l1)"
   ]
  },
  {
   "cell_type": "code",
   "execution_count": 18,
   "id": "700058de-419a-46b4-b4c6-a1c5bfcbf419",
   "metadata": {},
   "outputs": [
    {
     "name": "stdout",
     "output_type": "stream",
     "text": [
      "[1, 4, 9, 16, 25, 36, 49, 64, 81, 100]\n"
     ]
    }
   ],
   "source": [
    "# Create a list of squares of numbers from 1 to 10\n",
    "squares = []\n",
    "for num in range(1, 11):\n",
    "    squares.append(num ** 2)\n",
    "\n",
    "print(squares)"
   ]
  },
  {
   "cell_type": "code",
   "execution_count": 20,
   "id": "6865ea28-8524-478e-84e1-2e9532071937",
   "metadata": {},
   "outputs": [
    {
     "name": "stdout",
     "output_type": "stream",
     "text": [
      "[34, 13, 41, 99, 50, 51, 32, 34, 88, 32]\n"
     ]
    }
   ],
   "source": [
    "#Create a list of random numbers.\n",
    "import random\n",
    "\n",
    "# Specify the range and number of random numbers you want\n",
    "start_range = 1\n",
    "end_range = 100\n",
    "num_numbers = 10\n",
    "\n",
    "# Generate a list of random integers\n",
    "random_numbers = [random.randint(start_range, end_range) for _ in range(num_numbers)]\n",
    "\n",
    "# Print the list of random numbers\n",
    "print(random_numbers)\n"
   ]
  },
  {
   "cell_type": "code",
   "execution_count": 21,
   "id": "5ebd2c70-cdf5-4e40-bce2-0b140f13e9e6",
   "metadata": {},
   "outputs": [
    {
     "name": "stdout",
     "output_type": "stream",
     "text": [
      "[1, 2, 3, 4, 5]\n"
     ]
    }
   ],
   "source": [
    "# Remove duplicates from a list\n",
    "my_list = [1, 2, 2, 3, 4, 4, 5, 5]\n",
    "unique_list = list(set(my_list))\n",
    "\n",
    "print(unique_list)"
   ]
  },
  {
   "cell_type": "code",
   "execution_count": 22,
   "id": "4f361a15-1581-4a5c-9afc-ca66b413466c",
   "metadata": {},
   "outputs": [
    {
     "name": "stdout",
     "output_type": "stream",
     "text": [
      "[3, 4, 5]\n"
     ]
    }
   ],
   "source": [
    "# Find the common elements between two lists\n",
    "list1 = [1, 2, 3, 4, 5]\n",
    "list2 = [3, 4, 5, 6, 7]\n",
    "\n",
    "common_elements = list(set(list1).intersection(list2))\n",
    "\n",
    "print(common_elements)"
   ]
  },
  {
   "cell_type": "code",
   "execution_count": 23,
   "id": "946a03ea-6c76-4c37-bd03-cc0de7fa5326",
   "metadata": {},
   "outputs": [
    {
     "name": "stdout",
     "output_type": "stream",
     "text": [
      "[1, 2]\n"
     ]
    }
   ],
   "source": [
    "#Find the difference between two lists\n",
    "list1 = [1, 2, 3, 4, 5]\n",
    "list2 = [3, 4, 5, 6, 7]\n",
    "\n",
    "difference_elements = list(set(list1).difference(list2)) #This converts the set of difference elements back into a list.\n",
    "\n",
    "print(difference_elements)"
   ]
  },
  {
   "cell_type": "code",
   "execution_count": 24,
   "id": "6f40bd40-ac3f-4576-8769-7352f6df7a50",
   "metadata": {},
   "outputs": [
    {
     "name": "stdout",
     "output_type": "stream",
     "text": [
      "[1, 2, 3, 4, 5, 6]\n"
     ]
    }
   ],
   "source": [
    "# Merge two lists.\n",
    "list1 = [1, 2, 3]\n",
    "list2 = [4, 5, 6]\n",
    "\n",
    "merged_list = list1 + list2\n",
    "\n",
    "print(merged_list)\n"
   ]
  },
  {
   "cell_type": "code",
   "execution_count": 25,
   "id": "2995f38f-d605-4a05-86f9-03e8e8c61009",
   "metadata": {},
   "outputs": [
    {
     "name": "stdout",
     "output_type": "stream",
     "text": [
      "[2, 4, 6, 8, 10]\n"
     ]
    }
   ],
   "source": [
    "# Multiply all elements in a list by 2\n",
    "original_list = [1, 2, 3, 4, 5]\n",
    "doubled_list = [item * 2 for item in original_list]\n",
    "\n",
    "print(doubled_list)"
   ]
  },
  {
   "cell_type": "code",
   "execution_count": 26,
   "id": "aebd0373-d401-41e0-a375-35af4d5a9d71",
   "metadata": {},
   "outputs": [
    {
     "name": "stdout",
     "output_type": "stream",
     "text": [
      "[1, 3, 5, 7, 9]\n"
     ]
    }
   ],
   "source": [
    "# Filter out all even numbers from a list\n",
    "original_list = [1, 2, 3, 4, 5, 6, 7, 8, 9, 10]\n",
    "filtered_list = [item for item in original_list if item % 2 != 0]\n",
    "\n",
    "print(filtered_list)"
   ]
  },
  {
   "cell_type": "code",
   "execution_count": 27,
   "id": "5d277eb0-4657-4f39-8be5-30241fede25a",
   "metadata": {},
   "outputs": [
    {
     "name": "stdout",
     "output_type": "stream",
     "text": [
      "[1, 2, 3, 4, 5]\n"
     ]
    }
   ],
   "source": [
    "# Convert a list of strings to a list of integers.\n",
    "string_list = [\"1\", \"2\", \"3\", \"4\", \"5\"]\n",
    "integer_list = []\n",
    "\n",
    "for item in string_list:\n",
    "    integer_list.append(int(item))\n",
    "\n",
    "print(integer_list)"
   ]
  },
  {
   "cell_type": "code",
   "execution_count": 28,
   "id": "67c8070b-798b-4b0f-ab78-8c45e024f398",
   "metadata": {},
   "outputs": [
    {
     "name": "stdout",
     "output_type": "stream",
     "text": [
      "['1', '2', '3', '4', '5']\n"
     ]
    }
   ],
   "source": [
    "# Convert a list of integers to a list of strings\n",
    "integer_list = [1, 2, 3, 4, 5]\n",
    "string_list = []\n",
    "\n",
    "for item in integer_list:\n",
    "    string_list.append(str(item))\n",
    "\n",
    "print(string_list)\n"
   ]
  },
  {
   "cell_type": "code",
   "execution_count": 29,
   "id": "32a5eba2-d278-4f06-871a-acab7b9c1f32",
   "metadata": {},
   "outputs": [
    {
     "name": "stdout",
     "output_type": "stream",
     "text": [
      "[1, 2, 3, 4, 5, 6, 7, 8, 9]\n"
     ]
    }
   ],
   "source": [
    "#Flatten a nested list.\n",
    "nested_list = [[1, 2, 3], [4, 5], [6, 7, 8, 9]]\n",
    "flattened_list = []\n",
    "\n",
    "for sublist in nested_list:\n",
    "    flattened_list.extend(sublist)\n",
    "\n",
    "print(flattened_list)"
   ]
  },
  {
   "cell_type": "code",
   "execution_count": 30,
   "id": "8cbf1ec9-8d0e-4380-b1de-4e9a17f42b8b",
   "metadata": {},
   "outputs": [
    {
     "name": "stdout",
     "output_type": "stream",
     "text": [
      "[0, 1, 1, 2, 3, 5, 8, 13, 21, 34]\n"
     ]
    }
   ],
   "source": [
    "#Create a list of the first 10 Fibonacci numbers.\n",
    "fibonacci_numbers = [0, 1]\n",
    "while len(fibonacci_numbers) < 10:\n",
    "    next_number = fibonacci_numbers[-1] + fibonacci_numbers[-2]\n",
    "    fibonacci_numbers.append(next_number)\n",
    "\n",
    "print(fibonacci_numbers)"
   ]
  },
  {
   "cell_type": "code",
   "execution_count": 31,
   "id": "abec283f-a153-4964-a6f4-7332d7399a72",
   "metadata": {},
   "outputs": [
    {
     "name": "stdout",
     "output_type": "stream",
     "text": [
      "True\n",
      "False\n"
     ]
    }
   ],
   "source": [
    "#Check if a list is sorted\n",
    "def is_sorted(input_list):\n",
    "    return input_list == sorted(input_list)\n",
    "\n",
    "my_list = [1, 2, 3, 4, 5]\n",
    "print(is_sorted(my_list))  # Output: True\n",
    "\n",
    "my_list = [5, 3, 7, 2, 8]\n",
    "print(is_sorted(my_list))  # Output: False\n"
   ]
  },
  {
   "cell_type": "code",
   "execution_count": 32,
   "id": "14052887-4748-4579-ba6a-46e53437414a",
   "metadata": {},
   "outputs": [
    {
     "name": "stdout",
     "output_type": "stream",
     "text": [
      "[3, 4, 5, 1, 2]\n"
     ]
    }
   ],
   "source": [
    "#Rotate a list to the left by `n` positions\n",
    "def rotate_left(arr, n):\n",
    "    n = n % len(arr)  # Ensure n is within the range of the list length\n",
    "    return arr[n:] + arr[:n]\n",
    "\n",
    "my_list = [1, 2, 3, 4, 5]\n",
    "n = 2  # Number of positions to rotate\n",
    "\n",
    "result = rotate_left(my_list, n)\n",
    "print(result)  # Output: [3, 4, 5, 1, 2]\n"
   ]
  },
  {
   "cell_type": "code",
   "execution_count": 33,
   "id": "42c23740-6434-42e0-a425-ed50ca2ddd5a",
   "metadata": {},
   "outputs": [
    {
     "name": "stdout",
     "output_type": "stream",
     "text": [
      "[4, 5, 1, 2, 3]\n"
     ]
    }
   ],
   "source": [
    "#Rotate a list to the right by `n` positions.\n",
    "def rotate_right(arr, n):\n",
    "    n = n % len(arr)  # Ensure n is within the range of the list length\n",
    "    return arr[-n:] + arr[:-n]\n",
    "\n",
    "my_list = [1, 2, 3, 4, 5]\n",
    "n = 2  # Number of positions to rotate\n",
    "\n",
    "result = rotate_right(my_list, n)\n",
    "print(result)  # Output: [4, 5, 1, 2, 3]\n"
   ]
  },
  {
   "cell_type": "code",
   "execution_count": 34,
   "id": "28e852dd-bcd7-442c-a3ad-054529209d4c",
   "metadata": {},
   "outputs": [
    {
     "name": "stdout",
     "output_type": "stream",
     "text": [
      "[2, 3, 5, 7, 11, 13, 17, 19, 23, 29, 31, 37, 41, 43, 47]\n"
     ]
    }
   ],
   "source": [
    "#Create a list of prime numbers up to 50.\n",
    "def is_prime(num):\n",
    "    if num <= 1:\n",
    "        return False\n",
    "    if num <= 3:\n",
    "        return True\n",
    "    if num % 2 == 0 or num % 3 == 0:\n",
    "        return False\n",
    "    i = 5\n",
    "    while i * i <= num:\n",
    "        if num % i == 0 or num % (i + 2) == 0:\n",
    "            return False\n",
    "        i += 6\n",
    "    return True\n",
    "\n",
    "prime_numbers = [num for num in range(2, 51) if is_prime(num)]\n",
    "\n",
    "print(prime_numbers)\n"
   ]
  },
  {
   "cell_type": "code",
   "execution_count": 35,
   "id": "47452786-402a-45b5-b69a-ebddc485d582",
   "metadata": {},
   "outputs": [
    {
     "name": "stdout",
     "output_type": "stream",
     "text": [
      "[[1, 2, 3], [4, 5, 6], [7, 8, 9], [10]]\n"
     ]
    }
   ],
   "source": [
    "#Split a list into chunks of size `n`.\n",
    "def split_list_into_chunks(input_list, n):\n",
    "    return [input_list[i:i + n] for i in range(0, len(input_list), n)]\n",
    "\n",
    "my_list = [1, 2, 3, 4, 5, 6, 7, 8, 9, 10]\n",
    "chunk_size = 3\n",
    "\n",
    "result = split_list_into_chunks(my_list, chunk_size)\n",
    "print(result)\n"
   ]
  },
  {
   "cell_type": "code",
   "execution_count": 36,
   "id": "8cd0fa11-6ce4-4c21-9c37-79381ced5434",
   "metadata": {},
   "outputs": [
    {
     "name": "stdout",
     "output_type": "stream",
     "text": [
      "The second largest number is: 15\n"
     ]
    }
   ],
   "source": [
    "# Find the second largest number in a list.\n",
    "def second_largest(arr):\n",
    "    if len(arr) < 2:\n",
    "        return \"List is too small to have a second largest element\"\n",
    "    \n",
    "    sorted_list = sorted(arr, reverse=True)\n",
    "    return sorted_list[1]\n",
    "\n",
    "my_list = [10, 5, 20, 8, 15]\n",
    "result = second_largest(my_list)\n",
    "print(\"The second largest number is:\", result)\n"
   ]
  },
  {
   "cell_type": "code",
   "execution_count": 37,
   "id": "929fc5f7-d2f4-4f26-adc5-e21a8ad20553",
   "metadata": {},
   "outputs": [
    {
     "name": "stdout",
     "output_type": "stream",
     "text": [
      "[1, 4, 9, 16, 25]\n"
     ]
    }
   ],
   "source": [
    "# Replace every element in a list with its square\n",
    "def square_elements(arr):\n",
    "    for i in range(len(arr)):\n",
    "        arr[i] = arr[i] ** 2\n",
    "\n",
    "my_list = [1, 2, 3, 4, 5]\n",
    "square_elements(my_list)\n",
    "\n",
    "print(my_list)\n"
   ]
  },
  {
   "cell_type": "code",
   "execution_count": 38,
   "id": "914c8200-2aa9-4836-b875-c0ac542bd938",
   "metadata": {},
   "outputs": [
    {
     "name": "stdout",
     "output_type": "stream",
     "text": [
      "{'apple': 0, 'banana': 1, 'cherry': 2, 'date': 3}\n"
     ]
    }
   ],
   "source": [
    "#Convert a list to a dictionary where list elements become keys and their\n",
    "#indices become values.\n",
    "def list_to_dict(input_list):\n",
    "    return {value: index for index, value in enumerate(input_list)}\n",
    "\n",
    "my_list = [\"apple\", \"banana\", \"cherry\", \"date\"]\n",
    "result_dict = list_to_dict(my_list)\n",
    "\n",
    "print(result_dict)\n",
    "\n"
   ]
  },
  {
   "cell_type": "code",
   "execution_count": 39,
   "id": "9239ac9c-2045-4776-833b-8a9dcd5fb071",
   "metadata": {},
   "outputs": [
    {
     "name": "stdout",
     "output_type": "stream",
     "text": [
      "[1, 5, 3, 2, 4]\n"
     ]
    }
   ],
   "source": [
    "#Shuffle the elements of a list randomly.\n",
    "import random\n",
    "\n",
    "my_list = [1, 2, 3, 4, 5]\n",
    "\n",
    "# Shuffle the list in-place\n",
    "random.shuffle(my_list)\n",
    "\n",
    "print(my_list)\n"
   ]
  },
  {
   "cell_type": "code",
   "execution_count": 40,
   "id": "ac63975a-a030-4b00-948e-6093f78066d7",
   "metadata": {},
   "outputs": [
    {
     "name": "stdout",
     "output_type": "stream",
     "text": [
      "[1, 2, 6, 24, 120, 720, 5040, 40320, 362880, 3628800]\n"
     ]
    }
   ],
   "source": [
    "#Create a list of the first 10 factorial numbers.\n",
    "def factorial(num):\n",
    "    if num == 0:\n",
    "        return 1\n",
    "    else:\n",
    "        return num * factorial(num - 1)\n",
    "\n",
    "factorial_numbers = [factorial(i) for i in range(1, 11)]\n",
    "\n",
    "print(factorial_numbers)\n"
   ]
  },
  {
   "cell_type": "code",
   "execution_count": 41,
   "id": "8a687385-0b0a-4e87-9141-93655ec49df9",
   "metadata": {},
   "outputs": [
    {
     "name": "stdout",
     "output_type": "stream",
     "text": [
      "The lists have at least one element in common.\n"
     ]
    }
   ],
   "source": [
    "#Check if two lists have at least one element in common.\n",
    "def have_common_element(list1, list2):\n",
    "    # Convert the lists to sets\n",
    "    set1 = set(list1)\n",
    "    set2 = set(list2)\n",
    "    \n",
    "    # Check if there is an intersection between the sets\n",
    "    return len(set1.intersection(set2)) > 0\n",
    "\n",
    "# Example lists\n",
    "list1 = [1, 2, 3, 4, 5]\n",
    "list2 = [4, 5, 6, 7, 8]\n",
    "\n",
    "# Check if the lists have at least one element in common\n",
    "result = have_common_element(list1, list2)\n",
    "\n",
    "if result:\n",
    "    print(\"The lists have at least one element in common.\")\n",
    "else:\n",
    "    print(\"The lists have no elements in common.\")\n"
   ]
  },
  {
   "cell_type": "code",
   "execution_count": 42,
   "id": "7ffc8bc4-d5e3-46bc-8b94-d359a00f7f2d",
   "metadata": {},
   "outputs": [
    {
     "name": "stdout",
     "output_type": "stream",
     "text": [
      "[]\n"
     ]
    }
   ],
   "source": [
    "#. Remove all elements from a list.\n",
    "my_list = [1, 2, 3, 4, 5]\n",
    "\n",
    "my_list = []\n",
    "\n",
    "print(my_list)  # Output: []\n"
   ]
  },
  {
   "cell_type": "code",
   "execution_count": 43,
   "id": "7c5b74ba-6953-4406-ac53-6f41ddd87659",
   "metadata": {},
   "outputs": [
    {
     "name": "stdout",
     "output_type": "stream",
     "text": [
      "[1, 0, 3, 0, 5]\n"
     ]
    }
   ],
   "source": [
    "# Replace negative numbers in a list with 0.\n",
    "def replace_negatives_with_zero(lst):\n",
    "    for i in range(len(lst)):\n",
    "        if lst[i] < 0:\n",
    "            lst[i] = 0\n",
    "\n",
    "my_list = [1, -2, 3, -4, 5]\n",
    "replace_negatives_with_zero(my_list)\n",
    "\n",
    "print(my_list)\n"
   ]
  },
  {
   "cell_type": "code",
   "execution_count": 44,
   "id": "b72b4dff-24bb-44a2-bde5-5e5e328d8e69",
   "metadata": {},
   "outputs": [
    {
     "name": "stdout",
     "output_type": "stream",
     "text": [
      "['Hello,', 'this', 'is', 'a', 'sample', 'sentence.']\n"
     ]
    }
   ],
   "source": [
    "# Convert a string into a list of words\n",
    "my_string = \"Hello, this is a sample sentence.\"\n",
    "\n",
    "# Split the string into a list of words\n",
    "word_list = my_string.split()\n",
    "\n",
    "print(word_list)\n"
   ]
  },
  {
   "cell_type": "code",
   "execution_count": 45,
   "id": "149e0e80-028b-40a5-bdde-3f60b58e439e",
   "metadata": {},
   "outputs": [
    {
     "name": "stdout",
     "output_type": "stream",
     "text": [
      "Hello this is a list of words\n"
     ]
    }
   ],
   "source": [
    "# Convert a list of words into a string.\n",
    "word_list = [\"Hello\", \"this\", \"is\", \"a\", \"list\", \"of\", \"words\"]\n",
    "\n",
    "# Join the list of words into a string with spaces as separators\n",
    "my_string = \" \".join(word_list)\n",
    "\n",
    "print(my_string)\n"
   ]
  },
  {
   "cell_type": "code",
   "execution_count": 46,
   "id": "e98cf780-3734-4021-bc16-bf31e95d3709",
   "metadata": {},
   "outputs": [
    {
     "name": "stdout",
     "output_type": "stream",
     "text": [
      "[1, 2, 4, 8, 16]\n"
     ]
    }
   ],
   "source": [
    "# Create a list of the first `n` powers of 2\n",
    "n = 5  # Replace this with the desired number of powers\n",
    "\n",
    "powers_of_2 = [2 ** i for i in range(n)]\n",
    "\n",
    "print(powers_of_2)\n"
   ]
  },
  {
   "cell_type": "code",
   "execution_count": 47,
   "id": "de5e5417-5f4b-4c1f-8039-436c590ef0cb",
   "metadata": {},
   "outputs": [
    {
     "name": "stdout",
     "output_type": "stream",
     "text": [
      "The longest string is: banana\n"
     ]
    }
   ],
   "source": [
    "#Find the longest string in a list of strings.\n",
    "string_list = [\"apple\", \"banana\", \"cherry\", \"date\", \"fig\"]\n",
    "\n",
    "longest_string = max(string_list, key=len)\n",
    "\n",
    "print(\"The longest string is:\", longest_string)\n"
   ]
  },
  {
   "cell_type": "code",
   "execution_count": 48,
   "id": "b557afc4-7d30-4380-b969-a8ec2766805e",
   "metadata": {},
   "outputs": [
    {
     "name": "stdout",
     "output_type": "stream",
     "text": [
      "The shortest string is: fig\n"
     ]
    }
   ],
   "source": [
    "#Find the shortest string in a list of strings.\n",
    "string_list = [\"apple\", \"banana\", \"cherry\", \"date\", \"fig\"]\n",
    "\n",
    "shortest_string = min(string_list, key=len)\n",
    "\n",
    "print(\"The shortest string is:\", shortest_string)\n"
   ]
  },
  {
   "cell_type": "code",
   "execution_count": 49,
   "id": "34404dc8-bec7-46cb-9442-cda8de75debc",
   "metadata": {},
   "outputs": [
    {
     "name": "stdout",
     "output_type": "stream",
     "text": [
      "[1, 3, 6, 10, 15]\n"
     ]
    }
   ],
   "source": [
    "#Create a list of the first `n` triangular numbers\n",
    "n = 5  # Replace this with the desired number of triangular numbers\n",
    "\n",
    "triangular_numbers = []\n",
    "\n",
    "# Calculate the first n triangular numbers\n",
    "for i in range(1, n + 1):\n",
    "    triangular_number = (i * (i + 1)) // 2\n",
    "    triangular_numbers.append(triangular_number)\n",
    "\n",
    "print(triangular_numbers)\n"
   ]
  },
  {
   "cell_type": "code",
   "execution_count": 50,
   "id": "6048dc1f-1a2c-43f2-bd0f-ed2e6939048e",
   "metadata": {},
   "outputs": [
    {
     "name": "stdout",
     "output_type": "stream",
     "text": [
      "Yes, it's a subsequence.\n"
     ]
    }
   ],
   "source": [
    "#Check if a list contains another list as a subsequence.\n",
    "def is_subsequence(subseq, seq):\n",
    "    subseq_length = len(subseq)\n",
    "    seq_length = len(seq)\n",
    "    \n",
    "    subseq_index = 0  # Index for subsequence\n",
    "    seq_index = 0     # Index for sequence\n",
    "    \n",
    "    while subseq_index < subseq_length and seq_index < seq_length:\n",
    "        if subseq[subseq_index] == seq[seq_index]:\n",
    "            subseq_index += 1\n",
    "        seq_index += 1\n",
    "    \n",
    "    # If we've reached the end of the subsequence, it's a subsequence of the sequence\n",
    "    return subseq_index == subseq_length\n",
    "\n",
    "# Example lists\n",
    "sequence = [1, 2, 3, 4, 5, 6]\n",
    "subsequence = [2, 4, 6]\n",
    "\n",
    "# Check if subsequence is a subsequence of sequence\n",
    "result = is_subsequence(subsequence, sequence)\n",
    "\n",
    "if result:\n",
    "    print(\"Yes, it's a subsequence.\")\n",
    "else:\n",
    "    print(\"No, it's not a subsequence.\")\n"
   ]
  },
  {
   "cell_type": "code",
   "execution_count": 51,
   "id": "dd4ba51a-7634-485b-bdd6-76988506d613",
   "metadata": {},
   "outputs": [
    {
     "name": "stdout",
     "output_type": "stream",
     "text": [
      "[1, 4, 3, 2, 5]\n"
     ]
    }
   ],
   "source": [
    "#Swap two elements in a list by their indices.\n",
    "def swap_elements_by_indices(arr, index1, index2):\n",
    "    if 0 <= index1 < len(arr) and 0 <= index2 < len(arr):\n",
    "        arr[index1], arr[index2] = arr[index2], arr[index1]\n",
    "\n",
    "my_list = [1, 2, 3, 4, 5]\n",
    "\n",
    "# Swap elements at index 1 and 3\n",
    "swap_elements_by_indices(my_list, 1, 3)\n",
    "\n",
    "print(my_list)\n"
   ]
  },
  {
   "cell_type": "code",
   "execution_count": null,
   "id": "06838163-4ecc-4abc-ba44-ca71d4075135",
   "metadata": {},
   "outputs": [],
   "source": []
  },
  {
   "cell_type": "code",
   "execution_count": null,
   "id": "56b911ec-7a5b-4e9f-8b7d-a21e8774c814",
   "metadata": {},
   "outputs": [],
   "source": []
  },
  {
   "cell_type": "code",
   "execution_count": 52,
   "id": "eee90432-cfd4-44d4-82ca-08ccec3240c8",
   "metadata": {},
   "outputs": [
    {
     "data": {
      "text/plain": [
       "(1, 2, 3, 4, 5)"
      ]
     },
     "execution_count": 52,
     "metadata": {},
     "output_type": "execute_result"
    }
   ],
   "source": [
    "#Create a tuple with integers from 1 to 5\n",
    "my_tuple = (1, 2, 3, 4, 5)\n",
    "my_tuple"
   ]
  },
  {
   "cell_type": "code",
   "execution_count": 53,
   "id": "d2760b84-5b0a-40c0-9688-bfddedce2a94",
   "metadata": {},
   "outputs": [
    {
     "name": "stdout",
     "output_type": "stream",
     "text": [
      "3\n"
     ]
    }
   ],
   "source": [
    "# Access the third element of a tuple.\n",
    "my_tuple = (1, 2, 3, 4, 5)\n",
    "\n",
    "# Access the third element (index 2)\n",
    "third_element = my_tuple[2]\n",
    "\n",
    "print(third_element)\n"
   ]
  },
  {
   "cell_type": "code",
   "execution_count": 54,
   "id": "feb2320b-08fa-42ac-b20d-88f6dba06d57",
   "metadata": {},
   "outputs": [
    {
     "name": "stdout",
     "output_type": "stream",
     "text": [
      "The length of the tuple is: 5\n"
     ]
    }
   ],
   "source": [
    "#Find the length of a tuple without using the `len()` function.\n",
    "def tuple_length(my_tuple):\n",
    "    count = 0\n",
    "    for _ in my_tuple:\n",
    "        count += 1\n",
    "    return count\n",
    "\n",
    "my_tuple = (1, 2, 3, 4, 5)\n",
    "\n",
    "length = tuple_length(my_tuple)\n",
    "print(\"The length of the tuple is:\", length)\n"
   ]
  },
  {
   "cell_type": "code",
   "execution_count": 55,
   "id": "7f44d49d-3a7b-4df1-a208-be3b9eed91ee",
   "metadata": {},
   "outputs": [
    {
     "name": "stdout",
     "output_type": "stream",
     "text": [
      "The element 2 appears 3 times in the tuple.\n"
     ]
    }
   ],
   "source": [
    "# Count the occurrences of an element in a tuple.\n",
    "def count_occurrences(my_tuple, element):\n",
    "    count = 0\n",
    "    for item in my_tuple:\n",
    "        if item == element:\n",
    "            count += 1\n",
    "    return count\n",
    "\n",
    "my_tuple = (1, 2, 3, 2, 4, 2, 5)\n",
    "element_to_count = 2\n",
    "\n",
    "occurrences = count_occurrences(my_tuple, element_to_count)\n",
    "print(f\"The element {element_to_count} appears {occurrences} times in the tuple.\")\n"
   ]
  },
  {
   "cell_type": "code",
   "execution_count": 56,
   "id": "3ac13c6c-ff71-4d4b-85aa-a850aa56aad8",
   "metadata": {},
   "outputs": [
    {
     "name": "stdout",
     "output_type": "stream",
     "text": [
      "The element 2 is first found at index 1.\n"
     ]
    }
   ],
   "source": [
    "#Find the index of the first occurrence of an element in a tuple\n",
    "def find_first_index(my_tuple, element):\n",
    "    for index, item in enumerate(my_tuple):\n",
    "        if item == element:\n",
    "            return index\n",
    "    return -1  # Return -1 if the element is not found\n",
    "\n",
    "my_tuple = (1, 2, 3, 2, 4, 2, 5)\n",
    "element_to_find = 2\n",
    "\n",
    "index = find_first_index(my_tuple, element_to_find)\n",
    "\n",
    "if index != -1:\n",
    "    print(f\"The element {element_to_find} is first found at index {index}.\")\n",
    "else:\n",
    "    print(f\"The element {element_to_find} is not found in the tuple.\")\n"
   ]
  },
  {
   "cell_type": "code",
   "execution_count": 57,
   "id": "32f88f40-f086-4096-9cae-aab914220055",
   "metadata": {},
   "outputs": [
    {
     "name": "stdout",
     "output_type": "stream",
     "text": [
      "The element 3 exists in the tuple.\n"
     ]
    }
   ],
   "source": [
    "# Check if an element exists in a tuple.\n",
    "my_tuple = (1, 2, 3, 4, 5)\n",
    "element_to_check = 3\n",
    "\n",
    "if element_to_check in my_tuple:\n",
    "    print(f\"The element {element_to_check} exists in the tuple.\")\n",
    "else:\n",
    "    print(f\"The element {element_to_check} does not exist in the tuple.\")\n"
   ]
  },
  {
   "cell_type": "code",
   "execution_count": 58,
   "id": "e55c32e9-8568-45ef-979a-33221e997d5b",
   "metadata": {},
   "outputs": [
    {
     "name": "stdout",
     "output_type": "stream",
     "text": [
      "[1, 2, 3, 4, 5]\n"
     ]
    }
   ],
   "source": [
    "#Convert a tuple to a list\n",
    "my_tuple = (1, 2, 3, 4, 5)\n",
    "\n",
    "# Convert the tuple to a list\n",
    "my_list = list(my_tuple)\n",
    "\n",
    "print(my_list)\n"
   ]
  },
  {
   "cell_type": "code",
   "execution_count": 59,
   "id": "a5184870-1cd2-40b9-9534-df70a603a7e0",
   "metadata": {},
   "outputs": [
    {
     "name": "stdout",
     "output_type": "stream",
     "text": [
      "(1, 2, 3, 4, 5)\n"
     ]
    }
   ],
   "source": [
    "#Convert a list to a tuple\n",
    "my_list = [1, 2, 3, 4, 5]\n",
    "\n",
    "# Convert the list to a tuple\n",
    "my_tuple = tuple(my_list)\n",
    "\n",
    "print(my_tuple)\n"
   ]
  },
  {
   "cell_type": "code",
   "execution_count": 60,
   "id": "897bfd89-7665-4bdf-8053-81ebed07ad2d",
   "metadata": {},
   "outputs": [
    {
     "name": "stdout",
     "output_type": "stream",
     "text": [
      "Variable 1: 1\n",
      "Variable 2: 2\n",
      "Variable 3: 3\n"
     ]
    }
   ],
   "source": [
    "# Unpack the elements of a tuple into variables\n",
    "my_tuple = (1, 2, 3)\n",
    "\n",
    "# Unpack the tuple into variables\n",
    "var1, var2, var3 = my_tuple\n",
    "\n",
    "print(\"Variable 1:\", var1)\n",
    "print(\"Variable 2:\", var2)\n",
    "print(\"Variable 3:\", var3)\n"
   ]
  },
  {
   "cell_type": "code",
   "execution_count": 61,
   "id": "9cb7e8a5-6b9c-4c6d-bb06-0f11b7490146",
   "metadata": {},
   "outputs": [
    {
     "name": "stdout",
     "output_type": "stream",
     "text": [
      "(2, 4, 6, 8, 10)\n"
     ]
    }
   ],
   "source": [
    "# Create a tuple of even numbers from 1 to 10\n",
    "even_numbers = tuple(x for x in range(2, 11, 2))\n",
    "\n",
    "print(even_numbers)\n"
   ]
  },
  {
   "cell_type": "code",
   "execution_count": 62,
   "id": "84b98901-4d71-4c45-a8b6-6da031cc0fe7",
   "metadata": {},
   "outputs": [
    {
     "name": "stdout",
     "output_type": "stream",
     "text": [
      "(1, 3, 5, 7, 9)\n"
     ]
    }
   ],
   "source": [
    "#Create a tuple of odd numbers from 1 to 10\n",
    "odd_numbers = tuple(x for x in range(1, 11) if x % 2 != 0)\n",
    "\n",
    "print(odd_numbers)\n"
   ]
  },
  {
   "cell_type": "code",
   "execution_count": 63,
   "id": "55ce59f4-ebfc-4dbf-a264-fc13e5e453a5",
   "metadata": {},
   "outputs": [
    {
     "name": "stdout",
     "output_type": "stream",
     "text": [
      "(1, 2, 3, 4, 5, 6)\n"
     ]
    }
   ],
   "source": [
    "# Concatenate two tuples\n",
    "tuple1 = (1, 2, 3)\n",
    "tuple2 = (4, 5, 6)\n",
    "\n",
    "# Concatenate the two tuples\n",
    "concatenated_tuple = tuple1 + tuple2\n",
    "\n",
    "print(concatenated_tuple)\n"
   ]
  },
  {
   "cell_type": "code",
   "execution_count": 64,
   "id": "f2e67acd-693d-4f11-b058-d59aa0922fc2",
   "metadata": {},
   "outputs": [
    {
     "name": "stdout",
     "output_type": "stream",
     "text": [
      "(1, 2, 3, 1, 2, 3, 1, 2, 3)\n"
     ]
    }
   ],
   "source": [
    "# Repeat a tuple three times\n",
    "my_tuple = (1, 2, 3)\n",
    "\n",
    "# Repeat the tuple three times\n",
    "repeated_tuple = my_tuple * 3\n",
    "\n",
    "print(repeated_tuple)\n"
   ]
  },
  {
   "cell_type": "code",
   "execution_count": 65,
   "id": "cf51a615-e13f-4438-bd73-d37c15f9923f",
   "metadata": {},
   "outputs": [
    {
     "name": "stdout",
     "output_type": "stream",
     "text": [
      "The tuple is empty.\n"
     ]
    }
   ],
   "source": [
    "#Check if a tuple is empty\n",
    "my_tuple = ()\n",
    "\n",
    "if not my_tuple:\n",
    "    print(\"The tuple is empty.\")\n",
    "else:\n",
    "    print(\"The tuple is not empty.\")\n"
   ]
  },
  {
   "cell_type": "code",
   "execution_count": 66,
   "id": "49d38893-41bc-46fc-a55e-b4f4c87feba7",
   "metadata": {},
   "outputs": [
    {
     "name": "stdout",
     "output_type": "stream",
     "text": [
      "((1, 2, 3), ('a', 'b', 'c'), (4.0, 5.0, 6.0))\n"
     ]
    }
   ],
   "source": [
    "#Create a nested tuple.\n",
    "nested_tuple = ((1, 2, 3), (\"a\", \"b\", \"c\"), (4.0, 5.0, 6.0))\n",
    "\n",
    "print(nested_tuple)\n"
   ]
  },
  {
   "cell_type": "code",
   "execution_count": 67,
   "id": "27ddc8e2-6d1d-4cd6-8e92-ecf3374395e7",
   "metadata": {},
   "outputs": [
    {
     "name": "stdout",
     "output_type": "stream",
     "text": [
      "The first element of the nested tuple is: (1, 2, 3)\n"
     ]
    }
   ],
   "source": [
    "# Access the first element of a nested tuple\n",
    "nested_tuple = ((1, 2, 3), (\"a\", \"b\", \"c\"), (4.0, 5.0, 6.0))\n",
    "\n",
    "# Access the first element of the nested tuple\n",
    "first_element = nested_tuple[0]\n",
    "\n",
    "print(\"The first element of the nested tuple is:\", first_element)\n"
   ]
  },
  {
   "cell_type": "code",
   "execution_count": 68,
   "id": "4692227c-aa8d-470e-b49f-6908cd2e86ed",
   "metadata": {},
   "outputs": [
    {
     "data": {
      "text/plain": [
       "(42,)"
      ]
     },
     "execution_count": 68,
     "metadata": {},
     "output_type": "execute_result"
    }
   ],
   "source": [
    "# Create a tuple with a single element\n",
    "single_element_tuple = (42,)\n",
    "single_element_tuple"
   ]
  },
  {
   "cell_type": "code",
   "execution_count": 69,
   "id": "401e1d93-8f06-488b-8fd4-53c987ceab1a",
   "metadata": {},
   "outputs": [
    {
     "name": "stdout",
     "output_type": "stream",
     "text": [
      "Tuples are not equal.\n",
      "Tuple1 is less than tuple2.\n"
     ]
    }
   ],
   "source": [
    "# Compare two tuples.\n",
    "tuple1 = (1, 2, 3)\n",
    "tuple2 = (1, 2, 4)\n",
    "\n",
    "# Compare the two tuples\n",
    "if tuple1 == tuple2:\n",
    "    print(\"Tuples are equal.\")\n",
    "else:\n",
    "    print(\"Tuples are not equal.\")\n",
    "\n",
    "if tuple1 < tuple2:\n",
    "    print(\"Tuple1 is less than tuple2.\")\n",
    "else:\n",
    "    print(\"Tuple1 is not less than tuple2.\")\n"
   ]
  },
  {
   "cell_type": "code",
   "execution_count": 70,
   "id": "e73cdcb1-275d-416b-9f84-ee82640423f6",
   "metadata": {},
   "outputs": [],
   "source": [
    "# Delete a tuple\n",
    "my_tuple = (1, 2, 3, 4, 5)\n",
    "\n",
    "# Delete the entire tuple\n",
    "del my_tuple\n",
    "\n",
    "# Attempting to access the tuple after deletion will raise an error\n",
    "# print(my_tuple)  # Uncommenting this line would result in an error\n"
   ]
  },
  {
   "cell_type": "code",
   "execution_count": 71,
   "id": "6c067419-8dd1-4a1c-b1f8-bb93c907e0bf",
   "metadata": {},
   "outputs": [
    {
     "name": "stdout",
     "output_type": "stream",
     "text": [
      "(2, 3, 4)\n"
     ]
    }
   ],
   "source": [
    "# Slice a tuple\n",
    "my_tuple = (1, 2, 3, 4, 5)\n",
    "\n",
    "# Slice the tuple to get a subset\n",
    "subset_tuple = my_tuple[1:4]\n",
    "\n",
    "print(subset_tuple)\n"
   ]
  },
  {
   "cell_type": "code",
   "execution_count": 72,
   "id": "004dfc13-9794-4453-acc4-36f89a089bfa",
   "metadata": {},
   "outputs": [
    {
     "name": "stdout",
     "output_type": "stream",
     "text": [
      "The maximum value in the tuple is: 8\n"
     ]
    }
   ],
   "source": [
    "# Find the maximum value in a tuple.\n",
    "my_tuple = (1, 5, 3, 7, 2, 8)\n",
    "\n",
    "# Find the maximum value in the tuple\n",
    "max_value = max(my_tuple)\n",
    "\n",
    "print(\"The maximum value in the tuple is:\", max_value)\n"
   ]
  },
  {
   "cell_type": "code",
   "execution_count": 73,
   "id": "16a50361-efd6-4a82-a6dd-b5379e97527e",
   "metadata": {},
   "outputs": [
    {
     "name": "stdout",
     "output_type": "stream",
     "text": [
      "The minimum value in the tuple is: 1\n"
     ]
    }
   ],
   "source": [
    "# Find the minimum value in a tuple\n",
    "my_tuple = (1, 5, 3, 7, 2, 8)\n",
    "\n",
    "# Find the minimum value in the tuple\n",
    "min_value = min(my_tuple)\n",
    "\n",
    "print(\"The minimum value in the tuple is:\", min_value)\n"
   ]
  },
  {
   "cell_type": "code",
   "execution_count": 74,
   "id": "b038459e-148f-406f-91ac-22163aa3c575",
   "metadata": {},
   "outputs": [
    {
     "name": "stdout",
     "output_type": "stream",
     "text": [
      "('H', 'e', 'l', 'l', 'o', ',', ' ', 'W', 'o', 'r', 'l', 'd', '!')\n"
     ]
    }
   ],
   "source": [
    " #Convert a string to a tuple of characters\n",
    "my_string = \"Hello, World!\"\n",
    "\n",
    "# Convert the string to a tuple of characters\n",
    "tuple_of_characters = tuple(my_string)\n",
    "\n",
    "print(tuple_of_characters)\n"
   ]
  },
  {
   "cell_type": "code",
   "execution_count": 75,
   "id": "97c9a405-e067-44ef-8235-105ae691bf95",
   "metadata": {},
   "outputs": [
    {
     "name": "stdout",
     "output_type": "stream",
     "text": [
      "Hello, World!\n"
     ]
    }
   ],
   "source": [
    "# Convert a tuple of characters to a string.\n",
    "tuple_of_characters = ('H', 'e', 'l', 'l', 'o', ',', ' ', 'W', 'o', 'r', 'l', 'd', '!')\n",
    "\n",
    "# Convert the tuple of characters to a string\n",
    "my_string = ''.join(tuple_of_characters)\n",
    "\n",
    "print(my_string)\n"
   ]
  },
  {
   "cell_type": "code",
   "execution_count": 76,
   "id": "7d5ac977-e572-468d-b836-81d9ac0813a7",
   "metadata": {},
   "outputs": [
    {
     "name": "stdout",
     "output_type": "stream",
     "text": [
      "(1, 'Hello', 3.14, True)\n"
     ]
    }
   ],
   "source": [
    "# Create a tuple from multiple data types.\n",
    "mixed_tuple = (1, \"Hello\", 3.14, True)\n",
    "\n",
    "print(mixed_tuple)\n"
   ]
  },
  {
   "cell_type": "code",
   "execution_count": 77,
   "id": "350f4111-d86b-4f88-8f3b-63d966edc5e8",
   "metadata": {},
   "outputs": [
    {
     "name": "stdout",
     "output_type": "stream",
     "text": [
      "The two tuples are identical.\n"
     ]
    }
   ],
   "source": [
    "# Check if two tuples are identical.\n",
    "tuple1 = (1, 2, 3)\n",
    "tuple2 = (1, 2, 3)\n",
    "\n",
    "# Check if the two tuples are identical\n",
    "if tuple1 == tuple2:\n",
    "    print(\"The two tuples are identical.\")\n",
    "else:\n",
    "    print(\"The two tuples are not identical.\")\n"
   ]
  },
  {
   "cell_type": "code",
   "execution_count": 78,
   "id": "cd1d590a-00fb-4c8a-b06b-6664da2ec086",
   "metadata": {},
   "outputs": [
    {
     "name": "stdout",
     "output_type": "stream",
     "text": [
      "(1, 2, 3, 4, 5)\n"
     ]
    }
   ],
   "source": [
    "# Sort the elements of a tuple\n",
    "my_tuple = (3, 1, 2, 5, 4)\n",
    "\n",
    "# Convert the tuple to a list, sort the list, and convert it back to a tuple\n",
    "sorted_tuple = tuple(sorted(list(my_tuple)))\n",
    "\n",
    "print(sorted_tuple)\n"
   ]
  },
  {
   "cell_type": "code",
   "execution_count": 79,
   "id": "c7c11a04-2c27-4458-9692-5244582f33fc",
   "metadata": {},
   "outputs": [
    {
     "name": "stdout",
     "output_type": "stream",
     "text": [
      "('1', '2', '3', '4', '5')\n"
     ]
    }
   ],
   "source": [
    "#Convert a tuple of integers to a tuple of strings\n",
    "tuple_of_integers = (1, 2, 3, 4, 5)\n",
    "\n",
    "# Convert the tuple of integers to a tuple of strings\n",
    "tuple_of_strings = tuple(str(x) for x in tuple_of_integers)\n",
    "\n",
    "print(tuple_of_strings)\n"
   ]
  },
  {
   "cell_type": "code",
   "execution_count": 80,
   "id": "b975eb9c-fe48-4944-9489-a338fdbb243a",
   "metadata": {},
   "outputs": [
    {
     "name": "stdout",
     "output_type": "stream",
     "text": [
      "(1, 2, 3, 4, 5)\n"
     ]
    }
   ],
   "source": [
    "# Convert a tuple of strings to a tuple of integers.\n",
    "tuple_of_strings = ('1', '2', '3', '4', '5')\n",
    "\n",
    "# Convert the tuple of strings to a tuple of integers\n",
    "tuple_of_integers = tuple(int(x) for x in tuple_of_strings)\n",
    "\n",
    "print(tuple_of_integers)\n"
   ]
  },
  {
   "cell_type": "code",
   "execution_count": 81,
   "id": "031b02f0-b4c8-4cd8-919d-2ee041b68b69",
   "metadata": {},
   "outputs": [
    {
     "name": "stdout",
     "output_type": "stream",
     "text": [
      "(1, 2, 3, 4, 5, 6)\n"
     ]
    }
   ],
   "source": [
    "#Merge two tuples.\n",
    "tuple1 = (1, 2, 3)\n",
    "tuple2 = (4, 5, 6)\n",
    "\n",
    "# Merge the two tuples\n",
    "merged_tuple = tuple1 + tuple2\n",
    "\n",
    "print(merged_tuple)\n"
   ]
  },
  {
   "cell_type": "code",
   "execution_count": 82,
   "id": "f02c0c57-7a74-42ba-b52b-3de0cd405311",
   "metadata": {},
   "outputs": [
    {
     "name": "stdout",
     "output_type": "stream",
     "text": [
      "(1, 2, 3, 4, 5, 6)\n"
     ]
    }
   ],
   "source": [
    "#Merge two tuples.\n",
    "tuple1 = (1, 2, 3)\n",
    "tuple2 = (4, 5, 6)\n",
    "\n",
    "# Merge the two tuples\n",
    "merged_tuple = tuple1 + tuple2\n",
    "\n",
    "print(merged_tuple)\n"
   ]
  },
  {
   "cell_type": "code",
   "execution_count": 83,
   "id": "a389c590-404e-40f0-a3c4-d843f839830b",
   "metadata": {},
   "outputs": [
    {
     "name": "stdout",
     "output_type": "stream",
     "text": [
      "(2, 3, 5, 7, 11)\n"
     ]
    }
   ],
   "source": [
    "# Create a tuple of the first 5 prime numbers\n",
    "def is_prime(n):\n",
    "    if n <= 1:\n",
    "        return False\n",
    "    elif n <= 3:\n",
    "        return True\n",
    "    elif n % 2 == 0 or n % 3 == 0:\n",
    "        return False\n",
    "    i = 5\n",
    "    while i * i <= n:\n",
    "        if n % i == 0 or n % (i + 2) == 0:\n",
    "            return False\n",
    "        i += 6\n",
    "    return True\n",
    "\n",
    "prime_numbers = []\n",
    "n = 2  # Start with the first prime number\n",
    "\n",
    "while len(prime_numbers) < 5:\n",
    "    if is_prime(n):\n",
    "        prime_numbers.append(n)\n",
    "    n += 1\n",
    "\n",
    "prime_tuple = tuple(prime_numbers)\n",
    "\n",
    "print(prime_tuple)\n"
   ]
  },
  {
   "cell_type": "code",
   "execution_count": 84,
   "id": "9636a534-cf52-4f49-87db-2edadd11b936",
   "metadata": {},
   "outputs": [
    {
     "name": "stdout",
     "output_type": "stream",
     "text": [
      "The tuple is a palindrome.\n"
     ]
    }
   ],
   "source": [
    "# Check if a tuple is a palindrome.\n",
    "def is_palindrome(t):\n",
    "    return t == t[::-1]\n",
    "\n",
    "my_tuple = (1, 2, 3, 2, 1)\n",
    "\n",
    "# Check if the tuple is a palindrome\n",
    "if is_palindrome(my_tuple):\n",
    "    print(\"The tuple is a palindrome.\")\n",
    "else:\n",
    "    print(\"The tuple is not a palindrome.\")\n"
   ]
  },
  {
   "cell_type": "code",
   "execution_count": 85,
   "id": "b02e0af6-b3e3-4168-927b-89a12ca87255",
   "metadata": {},
   "outputs": [
    {
     "data": {
      "text/plain": [
       "(1, 4, 9, 16, 25)"
      ]
     },
     "execution_count": 85,
     "metadata": {},
     "output_type": "execute_result"
    }
   ],
   "source": [
    "#Create a tuple of squares of numbers from 1 to 5.\n",
    "squares_tuple = (1**2, 2**2, 3**2, 4**2, 5**2)\n",
    "squares_tuple"
   ]
  },
  {
   "cell_type": "code",
   "execution_count": 86,
   "id": "68348905-8c81-4736-967d-bea0af8afbb1",
   "metadata": {},
   "outputs": [
    {
     "name": "stdout",
     "output_type": "stream",
     "text": [
      "(1, 3, 5, 7, 9)\n"
     ]
    }
   ],
   "source": [
    "# Filter out all even numbers from a tuple.\n",
    "original_tuple = (1, 2, 3, 4, 5, 6, 7, 8, 9, 10)\n",
    "\n",
    "filtered_tuple = tuple(x for x in original_tuple if x % 2 != 0)\n",
    "\n",
    "print(filtered_tuple)\n"
   ]
  },
  {
   "cell_type": "code",
   "execution_count": 87,
   "id": "0ffd23c9-a506-48a7-80ae-5a4f77a615f1",
   "metadata": {},
   "outputs": [
    {
     "name": "stdout",
     "output_type": "stream",
     "text": [
      "(2, 4, 6, 8, 10)\n"
     ]
    }
   ],
   "source": [
    "# Multiply all elements in a tuple by 2.\n",
    "original_tuple = (1, 2, 3, 4, 5)\n",
    "\n",
    "doubled_tuple = tuple(x * 2 for x in original_tuple)\n",
    "\n",
    "print(doubled_tuple)\n"
   ]
  },
  {
   "cell_type": "code",
   "execution_count": 88,
   "id": "afc44bbf-980c-4deb-a086-b7fcb1cfcb42",
   "metadata": {},
   "outputs": [
    {
     "name": "stdout",
     "output_type": "stream",
     "text": [
      "(41, 26, 90, 44, 51)\n"
     ]
    }
   ],
   "source": [
    "# Create a tuple of random numbers.\n",
    "import random\n",
    "\n",
    "# Define the range and the number of random integers\n",
    "start_range = 1\n",
    "end_range = 100\n",
    "num_numbers = 5\n",
    "\n",
    "# Generate a tuple of random integers\n",
    "random_tuple = tuple(random.randint(start_range, end_range) for _ in range(num_numbers))\n",
    "\n",
    "print(random_tuple)\n"
   ]
  },
  {
   "cell_type": "code",
   "execution_count": 89,
   "id": "cb94515a-733b-4a6b-ae68-8ee54c53ae95",
   "metadata": {},
   "outputs": [
    {
     "name": "stdout",
     "output_type": "stream",
     "text": [
      "The tuple is sorted in ascending order.\n"
     ]
    }
   ],
   "source": [
    "# Check if a tuple is sorted\n",
    "# Original tuple\n",
    "my_tuple = (1, 2, 3, 4, 5)\n",
    "\n",
    "# Check if the tuple is sorted\n",
    "is_sorted = my_tuple == tuple(sorted(my_tuple))\n",
    "\n",
    "if is_sorted:\n",
    "    print(\"The tuple is sorted in ascending order.\")\n",
    "else:\n",
    "    print(\"The tuple is not sorted in ascending order.\")\n"
   ]
  },
  {
   "cell_type": "code",
   "execution_count": 90,
   "id": "f3ce2807-96f8-4d75-9792-2560baa025ab",
   "metadata": {},
   "outputs": [
    {
     "name": "stdout",
     "output_type": "stream",
     "text": [
      "(3, 4, 5, 1, 2)\n"
     ]
    }
   ],
   "source": [
    "# Rotate a tuple to the left by `n` positions\n",
    "def rotate_left_tuple(my_tuple, n):\n",
    "    # Calculate the index at which to split the tuple\n",
    "    split_index = n % len(my_tuple)\n",
    "\n",
    "    # Use slicing to split the tuple and recombine it in the rotated order\n",
    "    rotated_tuple = my_tuple[split_index:] + my_tuple[:split_index]\n",
    "\n",
    "    return rotated_tuple\n",
    "\n",
    "# Original tuple\n",
    "my_tuple = (1, 2, 3, 4, 5)\n",
    "\n",
    "# Number of positions to rotate\n",
    "n = 2\n",
    "\n",
    "# Rotate the tuple to the left by n positions\n",
    "rotated = rotate_left_tuple(my_tuple, n)\n",
    "\n",
    "print(rotated)\n"
   ]
  },
  {
   "cell_type": "code",
   "execution_count": 91,
   "id": "62db1f7a-6caa-475f-83bf-df301f3c2b81",
   "metadata": {},
   "outputs": [
    {
     "name": "stdout",
     "output_type": "stream",
     "text": [
      "(4, 5, 1, 2, 3)\n"
     ]
    }
   ],
   "source": [
    "#Rotate a tuple to the right by `n` positions.\n",
    "def rotate_right_tuple(my_tuple, n):\n",
    "    # Calculate the index at which to split the tuple\n",
    "    split_index = len(my_tuple) - (n % len(my_tuple))\n",
    "\n",
    "    # Use slicing to split the tuple and recombine it in the rotated order\n",
    "    rotated_tuple = my_tuple[split_index:] + my_tuple[:split_index]\n",
    "\n",
    "    return rotated_tuple\n",
    "\n",
    "# Original tuple\n",
    "my_tuple = (1, 2, 3, 4, 5)\n",
    "\n",
    "# Number of positions to rotate\n",
    "n = 2\n",
    "\n",
    "# Rotate the tuple to the right by n positions\n",
    "rotated = rotate_right_tuple(my_tuple, n)\n",
    "\n",
    "print(rotated)\n"
   ]
  },
  {
   "cell_type": "code",
   "execution_count": 92,
   "id": "01666c00-3beb-475f-8f2d-8627af883c20",
   "metadata": {},
   "outputs": [
    {
     "name": "stdout",
     "output_type": "stream",
     "text": [
      "(0, 1, 1, 2, 3)\n"
     ]
    }
   ],
   "source": [
    "#. Create a tuple of the first 5 Fibonacci numbers\n",
    "def generate_fibonacci(n):\n",
    "    fibonacci = []\n",
    "    a, b = 0, 1\n",
    "    for _ in range(n):\n",
    "        fibonacci.append(a)\n",
    "        a, b = b, a + b\n",
    "    return tuple(fibonacci)\n",
    "\n",
    "# Generate a tuple of the first 5 Fibonacci numbers\n",
    "fibonacci_tuple = generate_fibonacci(5)\n",
    "\n",
    "print(fibonacci_tuple)\n"
   ]
  },
  {
   "cell_type": "code",
   "execution_count": 93,
   "id": "e5346277-22d5-4fd2-bb3e-1f577a8e37cc",
   "metadata": {},
   "outputs": [
    {
     "name": "stdin",
     "output_type": "stream",
     "text": [
      "Enter elements separated by commas:  asss\n"
     ]
    },
    {
     "name": "stdout",
     "output_type": "stream",
     "text": [
      "User Tuple: ('asss',)\n"
     ]
    }
   ],
   "source": [
    "# Create a tuple from user input\n",
    "# Collect user input as a comma-separated string\n",
    "user_input = input(\"Enter elements separated by commas: \")\n",
    "\n",
    "# Split the input string by commas and convert it to a tuple\n",
    "user_tuple = tuple(user_input.split(\",\"))\n",
    "\n",
    "print(\"User Tuple:\", user_tuple)\n"
   ]
  },
  {
   "cell_type": "code",
   "execution_count": 94,
   "id": "5c57a7ac-bbd5-4da8-863d-9578095766d3",
   "metadata": {},
   "outputs": [
    {
     "name": "stdout",
     "output_type": "stream",
     "text": [
      "Original Tuple: (1, 2, 3, 4, 5)\n",
      "Swapped Tuple: (1, 4, 3, 2, 5)\n"
     ]
    }
   ],
   "source": [
    "#Swap two elements in a tuple\n",
    "# Original tuple\n",
    "my_tuple = (1, 2, 3, 4, 5)\n",
    "\n",
    "# Convert the tuple to a list\n",
    "my_list = list(my_tuple)\n",
    "\n",
    "# Indices of the elements to be swapped\n",
    "index1 = 1\n",
    "index2 = 3\n",
    "\n",
    "# Swap the elements in the list\n",
    "my_list[index1], my_list[index2] = my_list[index2], my_list[index1]\n",
    "\n",
    "# Convert the list back to a tuple\n",
    "swapped_tuple = tuple(my_list)\n",
    "\n",
    "print(\"Original Tuple:\", my_tuple)\n",
    "print(\"Swapped Tuple:\", swapped_tuple)\n"
   ]
  },
  {
   "cell_type": "code",
   "execution_count": 95,
   "id": "d5602921-ba44-4de6-bb29-ea7f4f104835",
   "metadata": {},
   "outputs": [
    {
     "name": "stdout",
     "output_type": "stream",
     "text": [
      "Original Tuple: (1, 2, 3, 4, 5)\n",
      "Reversed Tuple: (5, 4, 3, 2, 1)\n"
     ]
    }
   ],
   "source": [
    "# Reverse the elements of a tuple\n",
    "# Original tuple\n",
    "my_tuple = (1, 2, 3, 4, 5)\n",
    "\n",
    "# Reverse the elements and create a new tuple\n",
    "reversed_tuple = tuple(reversed(my_tuple))\n",
    "\n",
    "print(\"Original Tuple:\", my_tuple)\n",
    "print(\"Reversed Tuple:\", reversed_tuple)\n"
   ]
  },
  {
   "cell_type": "code",
   "execution_count": 96,
   "id": "18162bc9-fb04-4674-aa04-fd6e4efbbed8",
   "metadata": {},
   "outputs": [
    {
     "name": "stdout",
     "output_type": "stream",
     "text": [
      "(1, 2, 4, 8, 16)\n"
     ]
    }
   ],
   "source": [
    "# Create a tuple of the first `n` powers of 2\n",
    "def powers_of_2(n):\n",
    "    # Use list comprehension to generate the first n powers of 2\n",
    "    power_list = [2 ** i for i in range(n)]\n",
    "\n",
    "    # Convert the list to a tuple\n",
    "    power_tuple = tuple(power_list)\n",
    "\n",
    "    return power_tuple\n",
    "\n",
    "# Number of powers of 2 to generate\n",
    "n = 5\n",
    "\n",
    "# Generate a tuple of the first n powers of 2\n",
    "result_tuple = powers_of_2(n)\n",
    "\n",
    "print(result_tuple)\n"
   ]
  },
  {
   "cell_type": "code",
   "execution_count": 97,
   "id": "454d9619-9689-4323-9ba9-3b5460190ce8",
   "metadata": {},
   "outputs": [
    {
     "name": "stdout",
     "output_type": "stream",
     "text": [
      "Longest String: banana\n"
     ]
    }
   ],
   "source": [
    "# Find the longest string in a tuple of strings.\n",
    "# Tuple of strings\n",
    "my_tuple = (\"apple\", \"banana\", \"cherry\", \"date\", \"fig\")\n",
    "\n",
    "# Initialize a variable to store the longest string\n",
    "longest_string = \"\"\n",
    "\n",
    "# Iterate through the tuple\n",
    "for word in my_tuple:\n",
    "    if len(word) > len(longest_string):\n",
    "        longest_string = word\n",
    "\n",
    "print(\"Longest String:\", longest_string)\n"
   ]
  },
  {
   "cell_type": "code",
   "execution_count": 98,
   "id": "695ba43b-1106-4a2d-a345-97badb9ed032",
   "metadata": {},
   "outputs": [
    {
     "name": "stdout",
     "output_type": "stream",
     "text": [
      "Shortest String: fig\n"
     ]
    }
   ],
   "source": [
    "# Find the shortest string in a tuple of strings.\n",
    "# Tuple of strings\n",
    "my_tuple = (\"apple\", \"banana\", \"cherry\", \"date\", \"fig\")\n",
    "\n",
    "# Initialize a variable to store the shortest string\n",
    "shortest_string = None\n",
    "\n",
    "# Iterate through the tuple\n",
    "for word in my_tuple:\n",
    "    if shortest_string is None or len(word) < len(shortest_string):\n",
    "        shortest_string = word\n",
    "\n",
    "print(\"Shortest String:\", shortest_string)\n"
   ]
  },
  {
   "cell_type": "code",
   "execution_count": 99,
   "id": "46a2b497-0937-476f-a8ab-d6a9e3cf93be",
   "metadata": {},
   "outputs": [
    {
     "name": "stdout",
     "output_type": "stream",
     "text": [
      "(1, 3, 6, 10, 15)\n"
     ]
    }
   ],
   "source": [
    "# Create a tuple of the first `n` triangular numbers\n",
    "def generate_triangular_numbers(n):\n",
    "    # Use list comprehension to generate the first n triangular numbers\n",
    "    triangular_list = [(i * (i + 1)) // 2 for i in range(1, n + 1)]\n",
    "\n",
    "    # Convert the list to a tuple\n",
    "    triangular_tuple = tuple(triangular_list)\n",
    "\n",
    "    return triangular_tuple\n",
    "\n",
    "# Number of triangular numbers to generate\n",
    "n = 5\n",
    "\n",
    "# Generate a tuple of the first n triangular numbers\n",
    "result_tuple = generate_triangular_numbers(n)\n",
    "\n",
    "print(result_tuple)\n"
   ]
  },
  {
   "cell_type": "code",
   "execution_count": 100,
   "id": "d7624901-9938-4c67-8b4b-143647a17a21",
   "metadata": {},
   "outputs": [
    {
     "name": "stdout",
     "output_type": "stream",
     "text": [
      "Main tuple contains the target tuple as a subsequence.\n"
     ]
    }
   ],
   "source": [
    "# Check if a tuple contains another tuple as a subsequence.\n",
    "def contains_subsequence(main_tuple, target_tuple):\n",
    "    # Get the lengths of both tuples\n",
    "    main_len = len(main_tuple)\n",
    "    target_len = len(target_tuple)\n",
    "\n",
    "    # Iterate through the main tuple\n",
    "    for i in range(main_len - target_len + 1):\n",
    "        # Extract a subsequence of the same length as the target tuple\n",
    "        subsequence = main_tuple[i:i + target_len]\n",
    "\n",
    "        # Check if the subsequence matches the target tuple\n",
    "        if subsequence == target_tuple:\n",
    "            return True\n",
    "\n",
    "    # If no match is found, return False\n",
    "    return False\n",
    "\n",
    "# Example tuples\n",
    "main_tuple = (1, 2, 3, 4, 5, 6, 7)\n",
    "target_tuple = (3, 4, 5)\n",
    "\n",
    "# Check if the main tuple contains the target tuple as a subsequence\n",
    "result = contains_subsequence(main_tuple, target_tuple)\n",
    "\n",
    "if result:\n",
    "    print(\"Main tuple contains the target tuple as a subsequence.\")\n",
    "else:\n",
    "    print(\"Main tuple does not contain the target tuple as a subsequence.\")\n"
   ]
  },
  {
   "cell_type": "code",
   "execution_count": 101,
   "id": "6d9d5bc1-10e8-4cd9-864f-056fe0cf54f2",
   "metadata": {},
   "outputs": [
    {
     "name": "stdout",
     "output_type": "stream",
     "text": [
      "(1, 0, 1, 0, 1, 0, 1, 0, 1, 0)\n"
     ]
    }
   ],
   "source": [
    "# Create a tuple of alternating 1s and 0s of length `n`\n",
    "def create_alternating_tuple(n):\n",
    "    # Use list comprehension to generate the alternating pattern\n",
    "    alternating_list = [1 if i % 2 == 0 else 0 for i in range(n)]\n",
    "\n",
    "    # Convert the list to a tuple\n",
    "    alternating_tuple = tuple(alternating_list)\n",
    "\n",
    "    return alternating_tuple\n",
    "\n",
    "# Length of the alternating tuple\n",
    "n = 10\n",
    "\n",
    "# Create a tuple of alternating 1s and 0s\n",
    "result_tuple = create_alternating_tuple(n)\n",
    "\n",
    "print(result_tuple)\n"
   ]
  },
  {
   "cell_type": "code",
   "execution_count": null,
   "id": "94945750-4583-4830-b9f9-5e3a2ff5fe0a",
   "metadata": {},
   "outputs": [],
   "source": []
  },
  {
   "cell_type": "markdown",
   "id": "7d299ba7-2601-4f94-b933-afafd7b59a33",
   "metadata": {},
   "source": [
    "#set based problems"
   ]
  },
  {
   "cell_type": "code",
   "execution_count": 104,
   "id": "69e34116-46b7-44dc-827d-319e4ae57d13",
   "metadata": {},
   "outputs": [
    {
     "data": {
      "text/plain": [
       "{1, 2, 3, 4, 5}"
      ]
     },
     "execution_count": 104,
     "metadata": {},
     "output_type": "execute_result"
    }
   ],
   "source": [
    "#Create a set with integers from 1 to 5\n",
    "my_set = set([1, 2, 3, 4, 5])\n",
    "my_set"
   ]
  },
  {
   "cell_type": "code",
   "execution_count": 105,
   "id": "e0d59487-c8e4-47ba-b320-13fdc3be6671",
   "metadata": {},
   "outputs": [
    {
     "name": "stdout",
     "output_type": "stream",
     "text": [
      "{1, 2, 3, 4, 5, 6}\n"
     ]
    }
   ],
   "source": [
    "# Add an element to a set\n",
    "my_set = {1, 2, 3, 4, 5}\n",
    "\n",
    "# Add an element to the set\n",
    "my_set.add(6)\n",
    "\n",
    "# Print the updated set\n",
    "print(my_set)\n"
   ]
  },
  {
   "cell_type": "code",
   "execution_count": 106,
   "id": "732d9bae-0b9e-4c1c-9d6d-2bb944ab63f1",
   "metadata": {},
   "outputs": [
    {
     "name": "stdout",
     "output_type": "stream",
     "text": [
      "{1, 2, 4, 5}\n"
     ]
    }
   ],
   "source": [
    "# Remove an element from a set\n",
    "my_set = {1, 2, 3, 4, 5}\n",
    "\n",
    "# Remove an element from the set\n",
    "my_set.remove(3)\n",
    "\n",
    "# Print the updated set\n",
    "print(my_set)\n"
   ]
  },
  {
   "cell_type": "code",
   "execution_count": 107,
   "id": "c7c3c16b-f7d7-4f96-afd1-3570d8999df3",
   "metadata": {},
   "outputs": [
    {
     "name": "stdout",
     "output_type": "stream",
     "text": [
      "3 exists in the set\n"
     ]
    }
   ],
   "source": [
    "#Check if an element exists in a set\n",
    "my_set = {1, 2, 3, 4, 5}\n",
    "\n",
    "# Check if an element exists in the set\n",
    "element = 3\n",
    "if element in my_set:\n",
    "    print(f\"{element} exists in the set\")\n",
    "else:\n",
    "    print(f\"{element} does not exist in the set\")\n"
   ]
  },
  {
   "cell_type": "code",
   "execution_count": 108,
   "id": "fbd7dbea-bef9-46dd-a2b4-d7011ec4c2ca",
   "metadata": {},
   "outputs": [
    {
     "name": "stdout",
     "output_type": "stream",
     "text": [
      "Length of the set: 5\n"
     ]
    }
   ],
   "source": [
    "#Find the length of a set without using the `len()` function.\n",
    "my_set = {1, 2, 3, 4, 5}\n",
    "\n",
    "# Initialize a counter variable\n",
    "count = 0\n",
    "\n",
    "# Iterate through the set and count each element\n",
    "for element in my_set:\n",
    "    count += 1\n",
    "\n",
    "# Print the length of the set\n",
    "print(\"Length of the set:\", count)\n"
   ]
  },
  {
   "cell_type": "code",
   "execution_count": 109,
   "id": "5360014e-8d36-403d-b79d-543f89e728e8",
   "metadata": {},
   "outputs": [
    {
     "name": "stdout",
     "output_type": "stream",
     "text": [
      "set()\n"
     ]
    }
   ],
   "source": [
    "#Clear all elements from a set\n",
    "my_set = {1, 2, 3, 4, 5}\n",
    "\n",
    "# Clear all elements from the set\n",
    "my_set.clear()\n",
    "\n",
    "# Print the empty set\n",
    "print(my_set)\n"
   ]
  },
  {
   "cell_type": "code",
   "execution_count": 110,
   "id": "8ff0a1d6-a314-497d-9e72-620a0c30c901",
   "metadata": {},
   "outputs": [
    {
     "name": "stdout",
     "output_type": "stream",
     "text": [
      "{2, 4, 6, 8, 10}\n"
     ]
    }
   ],
   "source": [
    "# Create a set of even numbers from 1 to 10.\n",
    "even_numbers = {x for x in range(1, 11) if x % 2 == 0}\n",
    "print(even_numbers)\n"
   ]
  },
  {
   "cell_type": "code",
   "execution_count": 111,
   "id": "63480be8-4f68-4977-b30f-e98126534e4e",
   "metadata": {},
   "outputs": [
    {
     "name": "stdout",
     "output_type": "stream",
     "text": [
      "{1, 3, 5, 7, 9}\n"
     ]
    }
   ],
   "source": [
    "#Create a set of odd numbers from 1 to 10.\n",
    "odd_numbers = {x for x in range(1, 11) if x % 2 != 0}\n",
    "print(odd_numbers)\n"
   ]
  },
  {
   "cell_type": "code",
   "execution_count": 112,
   "id": "ea1fca97-5548-44f6-9b3d-3647f2216dcb",
   "metadata": {},
   "outputs": [
    {
     "name": "stdout",
     "output_type": "stream",
     "text": [
      "{1, 2, 3, 4, 5, 6, 7}\n"
     ]
    }
   ],
   "source": [
    "# Find the union of two sets\n",
    "set1 = {1, 2, 3, 4, 5}\n",
    "set2 = {3, 4, 5, 6, 7}\n",
    "\n",
    "# Find the union of set1 and set2 using the | operator\n",
    "union_set = set1 | set2\n",
    "\n",
    "# Print the union set\n",
    "print(union_set)\n"
   ]
  },
  {
   "cell_type": "code",
   "execution_count": 113,
   "id": "6724a333-23c2-4d90-9918-a14c3c2aa34e",
   "metadata": {},
   "outputs": [
    {
     "name": "stdout",
     "output_type": "stream",
     "text": [
      "{3, 4, 5}\n"
     ]
    }
   ],
   "source": [
    "#Find the intersection of two sets\n",
    "set1 = {1, 2, 3, 4, 5}\n",
    "set2 = {3, 4, 5, 6, 7}\n",
    "\n",
    "# Find the intersection of set1 and set2 using the & operator\n",
    "intersection_set = set1 & set2\n",
    "\n",
    "# Print the intersection set\n",
    "print(intersection_set)\n"
   ]
  },
  {
   "cell_type": "code",
   "execution_count": 114,
   "id": "598e4eeb-00c4-46c7-b2c2-b91db9964be9",
   "metadata": {},
   "outputs": [
    {
     "name": "stdout",
     "output_type": "stream",
     "text": [
      "{1, 2}\n"
     ]
    }
   ],
   "source": [
    "# Find the difference between two sets.\n",
    "set1 = {1, 2, 3, 4, 5}\n",
    "set2 = {3, 4, 5, 6, 7}\n",
    "\n",
    "# Find the difference between set1 and set2 using the - operator\n",
    "difference_set = set1 - set2\n",
    "\n",
    "# Print the difference set\n",
    "print(difference_set)\n"
   ]
  },
  {
   "cell_type": "code",
   "execution_count": 115,
   "id": "98ffb515-25b1-4afc-9b2b-79006dc504c6",
   "metadata": {},
   "outputs": [
    {
     "name": "stdout",
     "output_type": "stream",
     "text": [
      "True\n"
     ]
    }
   ],
   "source": [
    "# Check if a set is a subset of another set.\n",
    "set1 = {1, 2, 3}\n",
    "set2 = {1, 2, 3, 4, 5}\n",
    "\n",
    "# Check if set1 is a subset of set2 using the issubset() method\n",
    "is_subset = set1.issubset(set2)\n",
    "\n",
    "# Print the result\n",
    "print(is_subset)\n"
   ]
  },
  {
   "cell_type": "code",
   "execution_count": 116,
   "id": "82af52c2-1eb1-423b-bf23-e750c9563e45",
   "metadata": {},
   "outputs": [
    {
     "name": "stdout",
     "output_type": "stream",
     "text": [
      "True\n"
     ]
    }
   ],
   "source": [
    "# Check if a set is a superset of another set\n",
    "set1 = {1, 2, 3, 4, 5}\n",
    "set2 = {1, 2, 3}\n",
    "\n",
    "# Check if set1 is a superset of set2 using the issuperset() method\n",
    "is_superset = set1.issuperset(set2)\n",
    "\n",
    "# Print the result\n",
    "print(is_superset)\n"
   ]
  },
  {
   "cell_type": "code",
   "execution_count": 117,
   "id": "b5d85eb0-7281-4933-84c3-3c7c6ffae055",
   "metadata": {},
   "outputs": [
    {
     "name": "stdout",
     "output_type": "stream",
     "text": [
      "{1, 2, 3, 4, 5}\n"
     ]
    }
   ],
   "source": [
    "# Create a set from a list.\n",
    "my_list = [1, 2, 3, 4, 5]\n",
    "\n",
    "# Create a set from the list using the set() constructor\n",
    "my_set = set(my_list)\n",
    "\n",
    "# Print the set\n",
    "print(my_set)\n"
   ]
  },
  {
   "cell_type": "code",
   "execution_count": 118,
   "id": "50eb4cc9-9908-483e-8f03-012307aca424",
   "metadata": {},
   "outputs": [
    {
     "name": "stdout",
     "output_type": "stream",
     "text": [
      "[1, 2, 3, 4, 5]\n"
     ]
    }
   ],
   "source": [
    "#Convert a set to a list\n",
    "my_set = {1, 2, 3, 4, 5}\n",
    "\n",
    "# Convert the set to a list using the list() constructor\n",
    "my_list = list(my_set)\n",
    "\n",
    "# Print the list\n",
    "print(my_list)\n"
   ]
  },
  {
   "cell_type": "code",
   "execution_count": 119,
   "id": "3f62f309-091c-4fd3-b30d-1d181b9fd80e",
   "metadata": {},
   "outputs": [
    {
     "name": "stdout",
     "output_type": "stream",
     "text": [
      "Removed Element: 1\n",
      "Modified Set: {2, 3, 4, 5}\n"
     ]
    }
   ],
   "source": [
    "#Remove a random element from a set\n",
    "my_set = {1, 2, 3, 4, 5}\n",
    "\n",
    "# Remove a random element from the set using the pop() method\n",
    "removed_element = my_set.pop()\n",
    "\n",
    "# Print the removed element and the modified set\n",
    "print(\"Removed Element:\", removed_element)\n",
    "print(\"Modified Set:\", my_set)\n"
   ]
  },
  {
   "cell_type": "code",
   "execution_count": 120,
   "id": "8eba52b0-bff6-45db-9670-d2c1cd1ce8b5",
   "metadata": {},
   "outputs": [
    {
     "name": "stdout",
     "output_type": "stream",
     "text": [
      "Popped Element: 1\n",
      "Modified Set: {2, 3, 4, 5}\n"
     ]
    }
   ],
   "source": [
    "#Pop an element from a set\n",
    "my_set = {1, 2, 3, 4, 5}\n",
    "\n",
    "# Pop an element from the set using the pop() method\n",
    "popped_element = my_set.pop()\n",
    "\n",
    "# Print the popped element and the modified set\n",
    "print(\"Popped Element:\", popped_element)\n",
    "print(\"Modified Set:\", my_set)\n"
   ]
  },
  {
   "cell_type": "code",
   "execution_count": 121,
   "id": "f4197fb8-17b6-4f3e-a12d-b2f4c506343d",
   "metadata": {},
   "outputs": [
    {
     "name": "stdout",
     "output_type": "stream",
     "text": [
      "True\n"
     ]
    }
   ],
   "source": [
    "#Check if two sets have no elements in common\n",
    "set1 = {1, 2, 3}\n",
    "set2 = {4, 5, 6}\n",
    "\n",
    "# Check if set1 and set2 have no elements in common using isdisjoint()\n",
    "no_common_elements = set1.isdisjoint(set2)\n",
    "\n",
    "# Print the result\n",
    "print(no_common_elements)\n"
   ]
  },
  {
   "cell_type": "code",
   "execution_count": 122,
   "id": "ff47cdac-346d-450e-b35d-8e247ae69da9",
   "metadata": {},
   "outputs": [
    {
     "name": "stdout",
     "output_type": "stream",
     "text": [
      "{1, 2, 3, 6, 7, 8}\n"
     ]
    }
   ],
   "source": [
    "#Find the symmetric difference between two sets.\n",
    "set1 = {1, 2, 3, 4, 5}\n",
    "set2 = {4, 5, 6, 7, 8}\n",
    "\n",
    "# Find the symmetric difference between set1 and set2 using symmetric_difference()\n",
    "symmetric_diff = set1.symmetric_difference(set2)\n",
    "\n",
    "# Print the symmetric difference\n",
    "print(symmetric_diff)\n"
   ]
  },
  {
   "cell_type": "code",
   "execution_count": 123,
   "id": "0a900d06-8383-4e8f-82c9-4d51419acf2e",
   "metadata": {},
   "outputs": [
    {
     "name": "stdout",
     "output_type": "stream",
     "text": [
      "{1, 2, 3, 4, 5}\n"
     ]
    }
   ],
   "source": [
    "# Update a set with elements from another set\n",
    "set1 = {1, 2, 3}\n",
    "set2 = {3, 4, 5}\n",
    "\n",
    "# Update set1 with elements from set2 using the update() method\n",
    "set1.update(set2)\n",
    "\n",
    "# Print the updated set1\n",
    "print(set1)\n"
   ]
  },
  {
   "cell_type": "code",
   "execution_count": 124,
   "id": "3c004001-94db-4a24-b674-c9aeaed43895",
   "metadata": {},
   "outputs": [
    {
     "name": "stdout",
     "output_type": "stream",
     "text": [
      "{2, 3, 5, 7, 11}\n"
     ]
    }
   ],
   "source": [
    "# Create a set of the first 5 prime numbers.\n",
    "prime_numbers = {2, 3, 5, 7, 11}\n",
    "\n",
    "# Print the set of prime numbers\n",
    "print(prime_numbers)\n"
   ]
  },
  {
   "cell_type": "code",
   "execution_count": 125,
   "id": "ab329021-d187-4816-8f70-7b97e46d369e",
   "metadata": {},
   "outputs": [
    {
     "name": "stdout",
     "output_type": "stream",
     "text": [
      "True\n"
     ]
    }
   ],
   "source": [
    "#Check if two sets are identical\n",
    "set1 = {1, 2, 3}\n",
    "set2 = {3, 2, 1}\n",
    "\n",
    "# Check if set1 is a subset of set2 and set2 is a subset of set1\n",
    "identical = set1.issubset(set2) and set2.issubset(set1)\n",
    "\n",
    "# Print the result\n",
    "print(identical)\n"
   ]
  },
  {
   "cell_type": "code",
   "execution_count": 126,
   "id": "5d5aee18-7a94-43f5-934c-5a794a6ea0c2",
   "metadata": {},
   "outputs": [
    {
     "name": "stdout",
     "output_type": "stream",
     "text": [
      "frozenset({1, 2, 3, 4, 5})\n"
     ]
    }
   ],
   "source": [
    "# Create a frozen set\n",
    "my_set = {1, 2, 3, 4, 5}\n",
    "frozen_set = frozenset(my_set)\n",
    "\n",
    "# Print the frozen set\n",
    "print(frozen_set)\n"
   ]
  },
  {
   "cell_type": "code",
   "execution_count": 127,
   "id": "2606aa09-68be-43de-b88f-00a60a8b9870",
   "metadata": {},
   "outputs": [
    {
     "name": "stdout",
     "output_type": "stream",
     "text": [
      "True\n"
     ]
    }
   ],
   "source": [
    "#Check if a set is disjoint with another set\n",
    "set1 = {1, 2, 3}\n",
    "set2 = {4, 5, 6}\n",
    "\n",
    "# Check if set1 and set2 are disjoint using the isdisjoint() method\n",
    "disjoint = set1.isdisjoint(set2)\n",
    "\n",
    "# Print the result\n",
    "print(disjoint)\n"
   ]
  },
  {
   "cell_type": "code",
   "execution_count": 128,
   "id": "c4c81779-527a-4785-b07f-f9901a8835c9",
   "metadata": {},
   "outputs": [
    {
     "name": "stdout",
     "output_type": "stream",
     "text": [
      "{1, 4, 9, 16, 25}\n"
     ]
    }
   ],
   "source": [
    "#Create a set of squares of numbers from 1 to 5.\n",
    "squares_set = {x**2 for x in range(1, 6)}\n",
    "\n",
    "# Print the set of squares\n",
    "print(squares_set)\n"
   ]
  },
  {
   "cell_type": "code",
   "execution_count": 129,
   "id": "5edc6eca-4a70-4ca4-9fb9-1016d2beead1",
   "metadata": {},
   "outputs": [
    {
     "name": "stdout",
     "output_type": "stream",
     "text": [
      "{1, 3, 5, 7, 9}\n"
     ]
    }
   ],
   "source": [
    "#Filter out all even numbers from a set\n",
    "original_set = {1, 2, 3, 4, 5, 6, 7, 8, 9, 10}\n",
    "\n",
    "# Use a set comprehension to filter out even numbers\n",
    "filtered_set = {x for x in original_set if x % 2 != 0}\n",
    "\n",
    "# Print the filtered set\n",
    "print(filtered_set)\n"
   ]
  },
  {
   "cell_type": "code",
   "execution_count": 130,
   "id": "8929d509-9b04-4902-b144-e618e2975700",
   "metadata": {},
   "outputs": [
    {
     "name": "stdout",
     "output_type": "stream",
     "text": [
      "{2, 4, 6, 8, 10}\n"
     ]
    }
   ],
   "source": [
    "#Multiply all elements in a set by 2\n",
    "original_set = {1, 2, 3, 4, 5}\n",
    "\n",
    "# Create a new set with elements multiplied by 2\n",
    "result_set = {x * 2 for x in original_set}\n",
    "\n",
    "# Print the result set\n",
    "print(result_set)\n"
   ]
  },
  {
   "cell_type": "code",
   "execution_count": 131,
   "id": "da8fea80-7c9b-481b-a36d-f6773ddf158f",
   "metadata": {},
   "outputs": [
    {
     "name": "stdout",
     "output_type": "stream",
     "text": [
      "{64, 46, 82, 92, 31}\n"
     ]
    }
   ],
   "source": [
    "# Create a set of random numbers\n",
    "import random\n",
    "\n",
    "# Create an empty set to store random numbers\n",
    "random_set = set()\n",
    "\n",
    "# Generate and add random numbers to the set\n",
    "for _ in range(5):  # Change 5 to the desired number of random numbers\n",
    "    random_number = random.randint(1, 100)  # Adjust the range as needed\n",
    "    random_set.add(random_number)\n",
    "\n",
    "# Print the set of random numbers\n",
    "print(random_set)\n"
   ]
  },
  {
   "cell_type": "code",
   "execution_count": 132,
   "id": "5554ab3a-c1f1-4ad1-8d4c-4b10ee27b184",
   "metadata": {},
   "outputs": [
    {
     "name": "stdout",
     "output_type": "stream",
     "text": [
      "The set is empty.\n"
     ]
    }
   ],
   "source": [
    "# Check if a set is empty.\n",
    "my_set = set()  # This is an empty set\n",
    "\n",
    "if len(my_set) == 0:\n",
    "    print(\"The set is empty.\")\n",
    "else:\n",
    "    print(\"The set is not empty.\")\n"
   ]
  },
  {
   "cell_type": "code",
   "execution_count": 133,
   "id": "cea67f85-4740-4862-9602-1e2e5e2795ba",
   "metadata": {},
   "outputs": [
    {
     "name": "stdout",
     "output_type": "stream",
     "text": [
      "{frozenset({1, 2, 3}), frozenset({4, 5, 6})}\n"
     ]
    }
   ],
   "source": [
    "#Create a nested set (hint: use frozenset)\n",
    "# Create frozensets\n",
    "set1 = frozenset([1, 2, 3])\n",
    "set2 = frozenset([4, 5, 6])\n",
    "\n",
    "# Create a nested set\n",
    "nested_set = {set1, set2}\n",
    "\n",
    "# Print the nested set\n",
    "print(nested_set)\n"
   ]
  },
  {
   "cell_type": "code",
   "execution_count": 134,
   "id": "59c26869-2e3e-4b39-a86e-147fc4e313a9",
   "metadata": {},
   "outputs": [
    {
     "name": "stdout",
     "output_type": "stream",
     "text": [
      "{1, 2, 4, 5}\n"
     ]
    }
   ],
   "source": [
    "#Remove an element from a set using the discard method\n",
    "my_set = {1, 2, 3, 4, 5}\n",
    "\n",
    "# Remove an element using discard\n",
    "my_set.discard(3)\n",
    "\n",
    "print(my_set)  # The element 3 is removed\n"
   ]
  },
  {
   "cell_type": "code",
   "execution_count": 135,
   "id": "7a720142-537c-414e-8898-3abade93a6b5",
   "metadata": {},
   "outputs": [
    {
     "name": "stdout",
     "output_type": "stream",
     "text": [
      "The sets are disjoint (have no common elements).\n"
     ]
    }
   ],
   "source": [
    "#Compare two sets\n",
    "set1 = {1, 2}\n",
    "set2 = {3, 4}\n",
    "\n",
    "if set1.isdisjoint(set2):\n",
    "    print(\"The sets are disjoint (have no common elements).\")\n",
    "else:\n",
    "    print(\"The sets have common elements.\")\n"
   ]
  },
  {
   "cell_type": "code",
   "execution_count": 136,
   "id": "16cabcc8-ee83-417d-a9f9-a0b5fd108b8b",
   "metadata": {},
   "outputs": [
    {
     "name": "stdout",
     "output_type": "stream",
     "text": [
      "{'o', 'e', 'l', 'h'}\n"
     ]
    }
   ],
   "source": [
    "# Create a set from a string\n",
    "my_string = \"hello\"\n",
    "my_set = {char for char in my_string}\n",
    "print(my_set)\n"
   ]
  },
  {
   "cell_type": "code",
   "execution_count": 137,
   "id": "c08da9fd-8892-4972-af67-5ff126e951e6",
   "metadata": {},
   "outputs": [
    {
     "name": "stdout",
     "output_type": "stream",
     "text": [
      "{1, 2, 3, 4, 5}\n"
     ]
    }
   ],
   "source": [
    "#Convert a set of strings to a set of integers.\n",
    "# Set of strings\n",
    "string_set = {\"1\", \"2\", \"3\", \"4\", \"5\"}\n",
    "\n",
    "# Convert to a set of integers\n",
    "integer_set = {int(s) for s in string_set}\n",
    "\n",
    "print(integer_set)\n"
   ]
  },
  {
   "cell_type": "code",
   "execution_count": 138,
   "id": "115e3820-cbf6-4dbd-94f1-cf42660a9dce",
   "metadata": {},
   "outputs": [
    {
     "name": "stdout",
     "output_type": "stream",
     "text": [
      "{'5', '1', '3', '4', '2'}\n"
     ]
    }
   ],
   "source": [
    "# Convert a set of integers to a set of strings.\n",
    "# Set of integers\n",
    "integer_set = {1, 2, 3, 4, 5}\n",
    "\n",
    "# Convert to a set of strings\n",
    "string_set = {str(num) for num in integer_set}\n",
    "\n",
    "print(string_set)\n"
   ]
  },
  {
   "cell_type": "code",
   "execution_count": 139,
   "id": "9ecef875-821b-48f7-a578-08e808ca37de",
   "metadata": {},
   "outputs": [
    {
     "name": "stdout",
     "output_type": "stream",
     "text": [
      "{1, 2, 3, 4, 5}\n"
     ]
    }
   ],
   "source": [
    "# Create a set from a tuple\n",
    "# Tuple\n",
    "my_tuple = (1, 2, 3, 4, 5)\n",
    "\n",
    "# Create a set from the tuple\n",
    "my_set = set(my_tuple)\n",
    "\n",
    "print(my_set)\n"
   ]
  },
  {
   "cell_type": "code",
   "execution_count": 140,
   "id": "0f752f0d-d1d2-42fa-9b19-5ec5b01fa5c6",
   "metadata": {},
   "outputs": [
    {
     "name": "stdout",
     "output_type": "stream",
     "text": [
      "(1, 2, 3, 4, 5)\n"
     ]
    }
   ],
   "source": [
    "# Convert a set to a tuple\n",
    "# Set\n",
    "my_set = {1, 2, 3, 4, 5}\n",
    "\n",
    "# Convert the set to a tuple\n",
    "my_tuple = tuple(my_set)\n",
    "\n",
    "print(my_tuple)\n"
   ]
  },
  {
   "cell_type": "code",
   "execution_count": 141,
   "id": "25df527a-5f90-4cf0-8d22-0a4deb716238",
   "metadata": {},
   "outputs": [
    {
     "name": "stdout",
     "output_type": "stream",
     "text": [
      "99\n"
     ]
    }
   ],
   "source": [
    "# Find the maximum value in a set\n",
    "# Set of numbers\n",
    "my_set = {42, 17, 8, 99, 23}\n",
    "\n",
    "# Find the maximum value in the set\n",
    "maximum_value = max(my_set)\n",
    "\n",
    "print(maximum_value)\n"
   ]
  },
  {
   "cell_type": "code",
   "execution_count": 142,
   "id": "0b771ab7-6f47-4edc-a12d-b88f71f48edd",
   "metadata": {},
   "outputs": [
    {
     "name": "stdout",
     "output_type": "stream",
     "text": [
      "8\n"
     ]
    }
   ],
   "source": [
    "#Find the minimum value in a set\n",
    "# Set of numbers\n",
    "my_set = {42, 17, 8, 99, 23}\n",
    "\n",
    "# Find the minimum value in the set\n",
    "minimum_value = min(my_set)\n",
    "\n",
    "print(minimum_value)\n"
   ]
  },
  {
   "cell_type": "code",
   "execution_count": 143,
   "id": "4b4f685d-ba29-47b5-8f7e-c3251baab227",
   "metadata": {},
   "outputs": [
    {
     "name": "stdin",
     "output_type": "stream",
     "text": [
      "Enter a value (or 'done' to finish):  ass\n"
     ]
    },
    {
     "name": "stdout",
     "output_type": "stream",
     "text": [
      "Invalid input. Please enter a valid integer.\n"
     ]
    },
    {
     "name": "stdin",
     "output_type": "stream",
     "text": [
      "Enter a value (or 'done' to finish):  fonish\n"
     ]
    },
    {
     "name": "stdout",
     "output_type": "stream",
     "text": [
      "Invalid input. Please enter a valid integer.\n"
     ]
    },
    {
     "name": "stdin",
     "output_type": "stream",
     "text": [
      "Enter a value (or 'done' to finish):  122\n",
      "Enter a value (or 'done' to finish):  finish\n"
     ]
    },
    {
     "name": "stdout",
     "output_type": "stream",
     "text": [
      "Invalid input. Please enter a valid integer.\n"
     ]
    },
    {
     "name": "stdin",
     "output_type": "stream",
     "text": [
      "Enter a value (or 'done' to finish):  1\n",
      "Enter a value (or 'done' to finish):  finish\n"
     ]
    },
    {
     "name": "stdout",
     "output_type": "stream",
     "text": [
      "Invalid input. Please enter a valid integer.\n"
     ]
    },
    {
     "name": "stdin",
     "output_type": "stream",
     "text": [
      "Enter a value (or 'done' to finish):  done\n"
     ]
    },
    {
     "name": "stdout",
     "output_type": "stream",
     "text": [
      "The set you created is: {1, 122}\n"
     ]
    }
   ],
   "source": [
    "# Create a set from user input.\n",
    "# Initialize an empty set\n",
    "my_set = set()\n",
    "\n",
    "# Ask the user for input\n",
    "while True:\n",
    "    user_input = input(\"Enter a value (or 'done' to finish): \")\n",
    "    \n",
    "    # Check if the user wants to finish\n",
    "    if user_input.lower() == 'done':\n",
    "        break\n",
    "    \n",
    "    # Add the user input to the set\n",
    "    try:\n",
    "        value = int(user_input)  # Convert input to an integer\n",
    "        my_set.add(value)\n",
    "    except ValueError:\n",
    "        print(\"Invalid input. Please enter a valid integer.\")\n",
    "\n",
    "# Display the set\n",
    "print(\"The set you created is:\", my_set)\n"
   ]
  },
  {
   "cell_type": "code",
   "execution_count": 144,
   "id": "9ea4f5dc-f629-4623-8a9d-967345579c40",
   "metadata": {},
   "outputs": [
    {
     "name": "stdout",
     "output_type": "stream",
     "text": [
      "The intersection of set1 and set2 is not empty.\n"
     ]
    }
   ],
   "source": [
    "#Check if the intersection of two sets is empty\n",
    "# Two sets\n",
    "set1 = {1, 2, 3, 4}\n",
    "set2 = {3, 4, 5, 6}\n",
    "\n",
    "# Check if the intersection is empty\n",
    "is_empty_intersection = set1.isdisjoint(set2)\n",
    "\n",
    "if is_empty_intersection:\n",
    "    print(\"The intersection of set1 and set2 is empty.\")\n",
    "else:\n",
    "    print(\"The intersection of set1 and set2 is not empty.\")\n"
   ]
  },
  {
   "cell_type": "code",
   "execution_count": 145,
   "id": "bb8017f6-8acf-41dd-8cd6-d0be19ed1c0e",
   "metadata": {},
   "outputs": [
    {
     "name": "stdout",
     "output_type": "stream",
     "text": [
      "Set of the first 5 Fibonacci numbers: {0, 1, 2, 3}\n"
     ]
    }
   ],
   "source": [
    "#Create a set of the first 5 Fibonacci numbers\n",
    "# Initialize an empty set\n",
    "fibonacci_set = set()\n",
    "\n",
    "# Initialize the first two Fibonacci numbers\n",
    "a, b = 0, 1\n",
    "\n",
    "# Generate the first 5 Fibonacci numbers and add them to the set\n",
    "for _ in range(5):\n",
    "    fibonacci_set.add(a)\n",
    "    a, b = b, a + b\n",
    "\n",
    "# Display the set\n",
    "print(\"Set of the first 5 Fibonacci numbers:\", fibonacci_set)\n"
   ]
  },
  {
   "cell_type": "code",
   "execution_count": 146,
   "id": "fe09418b-7967-481e-8796-0fbc8cbec322",
   "metadata": {},
   "outputs": [
    {
     "name": "stdout",
     "output_type": "stream",
     "text": [
      "[1, 2, 3, 4, 5]\n"
     ]
    }
   ],
   "source": [
    "#Remove duplicates from a list using sets\n",
    "# Original list with duplicates\n",
    "my_list = [1, 2, 2, 3, 4, 4, 5]\n",
    "\n",
    "# Remove duplicates using a set\n",
    "my_list_without_duplicates = list(set(my_list))\n",
    "\n",
    "# Display the list without duplicates\n",
    "print(my_list_without_duplicates)\n"
   ]
  },
  {
   "cell_type": "code",
   "execution_count": 147,
   "id": "e1991551-f195-4a91-b67c-b346a2380a61",
   "metadata": {},
   "outputs": [
    {
     "name": "stdout",
     "output_type": "stream",
     "text": [
      "The sets have the same elements.\n"
     ]
    }
   ],
   "source": [
    "# Check if two sets have the same elements, regardless of their count.\n",
    "# Two sets with the same elements but different order and count\n",
    "set1 = {1, 2, 3, 4, 5}\n",
    "set2 = {5, 4, 3, 2, 1}\n",
    "\n",
    "# Check if the sets have the same elements\n",
    "if set1 == set2:\n",
    "    print(\"The sets have the same elements.\")\n",
    "else:\n",
    "    print(\"The sets do not have the same elements.\")\n"
   ]
  },
  {
   "cell_type": "code",
   "execution_count": 148,
   "id": "b6040a6f-6dba-4bf0-a47c-de3beb443d79",
   "metadata": {},
   "outputs": [
    {
     "name": "stdout",
     "output_type": "stream",
     "text": [
      "{1, 2, 4, 8, 16}\n"
     ]
    }
   ],
   "source": [
    "#Create a set of the first `n` powers of 2\n",
    "n = 5  # Change n to the desired number of powers of 2\n",
    "\n",
    "# Create a set of the first n powers of 2\n",
    "powers_of_2_set = {2 ** i for i in range(n)}\n",
    "\n",
    "# Display the set\n",
    "print(powers_of_2_set)\n"
   ]
  },
  {
   "cell_type": "code",
   "execution_count": 149,
   "id": "bb22ccf8-44d2-4e41-8eab-b1c9c72cc8c2",
   "metadata": {},
   "outputs": [
    {
     "name": "stdout",
     "output_type": "stream",
     "text": [
      "{3, 4, 5}\n"
     ]
    }
   ],
   "source": [
    "#Find the common elements between a set and a list.\n",
    "# Define a set\n",
    "my_set = {1, 2, 3, 4, 5}\n",
    "\n",
    "# Define a list\n",
    "my_list = [3, 4, 5, 6, 7]\n",
    "\n",
    "# Find common elements between the set and list\n",
    "common_elements = my_set.intersection(my_list)\n",
    "\n",
    "# Display the common elements\n",
    "print(common_elements)\n"
   ]
  },
  {
   "cell_type": "code",
   "execution_count": 150,
   "id": "31f2f156-2ec9-4e95-9df6-280b77f6114f",
   "metadata": {},
   "outputs": [
    {
     "name": "stdout",
     "output_type": "stream",
     "text": [
      "{1, 3, 6, 10, 15}\n"
     ]
    }
   ],
   "source": [
    "#Create a set of the first `n` triangular numbers\n",
    "n = 5  # Change n to the desired number of triangular numbers\n",
    "\n",
    "# Create a set of the first n triangular numbers\n",
    "triangular_numbers_set = {i * (i + 1) // 2 for i in range(1, n + 1)}\n",
    "\n",
    "# Display the set\n",
    "print(triangular_numbers_set)\n"
   ]
  },
  {
   "cell_type": "code",
   "execution_count": 151,
   "id": "3509c16c-d103-4133-a0fe-4f4bb8c0fa93",
   "metadata": {},
   "outputs": [
    {
     "name": "stdout",
     "output_type": "stream",
     "text": [
      "set2 is a subset of set1\n",
      "set2 is a subset of set1 (using <= operator)\n"
     ]
    }
   ],
   "source": [
    "#Check if a set contains another set as a subset\n",
    "# Define the sets\n",
    "set1 = {1, 2, 3, 4, 5}\n",
    "set2 = {2, 3}\n",
    "\n",
    "# Check if set2 is a subset of set1 using issubset()\n",
    "is_subset = set2.issubset(set1)\n",
    "\n",
    "# Alternatively, you can use the <= operator\n",
    "is_subset_alternative = set2 <= set1\n",
    "\n",
    "# Check the results\n",
    "if is_subset:\n",
    "    print(\"set2 is a subset of set1\")\n",
    "else:\n",
    "    print(\"set2 is not a subset of set1\")\n",
    "\n",
    "if is_subset_alternative:\n",
    "    print(\"set2 is a subset of set1 (using <= operator)\")\n",
    "else:\n",
    "    print(\"set2 is not a subset of set1 (using <= operator)\")\n"
   ]
  },
  {
   "cell_type": "code",
   "execution_count": 152,
   "id": "04bc338c-25f5-4ba4-afc6-367856295081",
   "metadata": {},
   "outputs": [
    {
     "name": "stdout",
     "output_type": "stream",
     "text": [
      "{0, 1}\n"
     ]
    }
   ],
   "source": [
    "# Create a set of alternating 1s and 0s of length `n`.\n",
    "n = 10  # Change this to the desired length\n",
    "\n",
    "# Create a set of alternating 1s and 0s using list comprehension\n",
    "alternating_set = {1 if i % 2 == 0 else 0 for i in range(n)}\n",
    "\n",
    "# Print the resulting set\n",
    "print(alternating_set)\n"
   ]
  },
  {
   "cell_type": "code",
   "execution_count": 153,
   "id": "c7a1ef06-bdb2-47c4-b0b7-2876061785b9",
   "metadata": {},
   "outputs": [
    {
     "name": "stdout",
     "output_type": "stream",
     "text": [
      "Merged Set 1: {1, 2, 3, 4, 5, 6, 7}\n",
      "Merged Set 2: {1, 2, 3, 4, 5, 6, 7}\n"
     ]
    }
   ],
   "source": [
    "# Merge multiple sets into one\n",
    "# Create multiple sets\n",
    "set1 = {1, 2, 3}\n",
    "set2 = {3, 4, 5}\n",
    "set3 = {5, 6, 7}\n",
    "\n",
    "# Method 1: Using union method\n",
    "merged_set1 = set1.union(set2, set3)\n",
    "\n",
    "# Method 2: Using | (pipe) operator\n",
    "merged_set2 = set1 | set2 | set3\n",
    "\n",
    "# Print the merged sets\n",
    "print(\"Merged Set 1:\", merged_set1)\n",
    "print(\"Merged Set 2:\", merged_set2)\n"
   ]
  },
  {
   "cell_type": "code",
   "execution_count": null,
   "id": "79a8b249-4d1a-458e-9883-8ef35a7938dd",
   "metadata": {},
   "outputs": [],
   "source": []
  }
 ],
 "metadata": {
  "kernelspec": {
   "display_name": "Python 3 (ipykernel)",
   "language": "python",
   "name": "python3"
  },
  "language_info": {
   "codemirror_mode": {
    "name": "ipython",
    "version": 3
   },
   "file_extension": ".py",
   "mimetype": "text/x-python",
   "name": "python",
   "nbconvert_exporter": "python",
   "pygments_lexer": "ipython3",
   "version": "3.10.8"
  }
 },
 "nbformat": 4,
 "nbformat_minor": 5
}
